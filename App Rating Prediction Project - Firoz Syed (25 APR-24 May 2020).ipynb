{
 "cells": [
  {
   "cell_type": "markdown",
   "metadata": {},
   "source": [
    "#                                     App Rating Prediction \n",
    "\n",
    "Objective: Make a model to predict the app rating, with other information about the app provided.\n",
    "\n",
    "Problem Statement:\n",
    "\n",
    "Google Play Store team is about to launch a new feature wherein, certain apps that are promising, are boosted in visibility. The boost will manifest in multiple ways including higher priority in recommendations sections (“Similar apps”, “You might also like”, “New and updated games”). These will also get a boost in search results visibility.  This feature will help bring more attention to newer apps that have the potential.\n",
    "\n",
    "Domain: General\n",
    "\n",
    "Analysis to be done: The problem is to identify the apps that are going to be good for Google to promote. App ratings, which are provided by the customers, is always a great indicator of the goodness of the app. The problem reduces to: predict which apps will have high ratings.\n",
    "\n",
    "Content: Dataset: Google Play Store data (“googleplaystore.csv”)"
   ]
  },
  {
   "cell_type": "code",
   "execution_count": 1,
   "metadata": {},
   "outputs": [],
   "source": [
    "import pandas as pd\n",
    "from IPython.display import display\n",
    "pd.set_option('display.max_rows', 500)\n",
    "import numpy as np\n",
    "from matplotlib import style\n",
    "import os\n",
    "import matplotlib.pyplot as plt\n",
    "import seaborn as sns\n",
    "%matplotlib inline\n",
    "import warnings \n",
    "warnings.filterwarnings('ignore')"
   ]
  },
  {
   "cell_type": "code",
   "execution_count": 2,
   "metadata": {},
   "outputs": [
    {
     "data": {
      "text/plain": [
       "'C:\\\\Users\\\\fsyed'"
      ]
     },
     "execution_count": 2,
     "metadata": {},
     "output_type": "execute_result"
    }
   ],
   "source": [
    "os.getcwd()"
   ]
  },
  {
   "cell_type": "code",
   "execution_count": 3,
   "metadata": {},
   "outputs": [],
   "source": [
    "os.chdir('C:\\\\Users\\\\fsyed\\\\Desktop\\\\Firoz_Eugenus\\\\Firoz_Simpli Learn Training\\\\Programming Basics and Data Analytics with Python\\\\1569582940_googleplaystore')"
   ]
  },
  {
   "cell_type": "code",
   "execution_count": 4,
   "metadata": {},
   "outputs": [
    {
     "data": {
      "text/html": [
       "<div>\n",
       "<style scoped>\n",
       "    .dataframe tbody tr th:only-of-type {\n",
       "        vertical-align: middle;\n",
       "    }\n",
       "\n",
       "    .dataframe tbody tr th {\n",
       "        vertical-align: top;\n",
       "    }\n",
       "\n",
       "    .dataframe thead th {\n",
       "        text-align: right;\n",
       "    }\n",
       "</style>\n",
       "<table border=\"1\" class=\"dataframe\">\n",
       "  <thead>\n",
       "    <tr style=\"text-align: right;\">\n",
       "      <th></th>\n",
       "      <th>App</th>\n",
       "      <th>Category</th>\n",
       "      <th>Rating</th>\n",
       "      <th>Reviews</th>\n",
       "      <th>Size</th>\n",
       "      <th>Installs</th>\n",
       "      <th>Type</th>\n",
       "      <th>Price</th>\n",
       "      <th>Content Rating</th>\n",
       "      <th>Genres</th>\n",
       "      <th>Last Updated</th>\n",
       "      <th>Current Ver</th>\n",
       "      <th>Android Ver</th>\n",
       "    </tr>\n",
       "  </thead>\n",
       "  <tbody>\n",
       "    <tr>\n",
       "      <th>0</th>\n",
       "      <td>Photo Editor &amp; Candy Camera &amp; Grid &amp; ScrapBook</td>\n",
       "      <td>ART_AND_DESIGN</td>\n",
       "      <td>4.1</td>\n",
       "      <td>159</td>\n",
       "      <td>19M</td>\n",
       "      <td>10,000+</td>\n",
       "      <td>Free</td>\n",
       "      <td>0</td>\n",
       "      <td>Everyone</td>\n",
       "      <td>Art &amp; Design</td>\n",
       "      <td>January 7, 2018</td>\n",
       "      <td>1.0.0</td>\n",
       "      <td>4.0.3 and up</td>\n",
       "    </tr>\n",
       "    <tr>\n",
       "      <th>1</th>\n",
       "      <td>Coloring book moana</td>\n",
       "      <td>ART_AND_DESIGN</td>\n",
       "      <td>3.9</td>\n",
       "      <td>967</td>\n",
       "      <td>14M</td>\n",
       "      <td>500,000+</td>\n",
       "      <td>Free</td>\n",
       "      <td>0</td>\n",
       "      <td>Everyone</td>\n",
       "      <td>Art &amp; Design;Pretend Play</td>\n",
       "      <td>January 15, 2018</td>\n",
       "      <td>2.0.0</td>\n",
       "      <td>4.0.3 and up</td>\n",
       "    </tr>\n",
       "    <tr>\n",
       "      <th>2</th>\n",
       "      <td>U Launcher Lite – FREE Live Cool Themes, Hide ...</td>\n",
       "      <td>ART_AND_DESIGN</td>\n",
       "      <td>4.7</td>\n",
       "      <td>87510</td>\n",
       "      <td>8.7M</td>\n",
       "      <td>5,000,000+</td>\n",
       "      <td>Free</td>\n",
       "      <td>0</td>\n",
       "      <td>Everyone</td>\n",
       "      <td>Art &amp; Design</td>\n",
       "      <td>August 1, 2018</td>\n",
       "      <td>1.2.4</td>\n",
       "      <td>4.0.3 and up</td>\n",
       "    </tr>\n",
       "    <tr>\n",
       "      <th>3</th>\n",
       "      <td>Sketch - Draw &amp; Paint</td>\n",
       "      <td>ART_AND_DESIGN</td>\n",
       "      <td>4.5</td>\n",
       "      <td>215644</td>\n",
       "      <td>25M</td>\n",
       "      <td>50,000,000+</td>\n",
       "      <td>Free</td>\n",
       "      <td>0</td>\n",
       "      <td>Teen</td>\n",
       "      <td>Art &amp; Design</td>\n",
       "      <td>June 8, 2018</td>\n",
       "      <td>Varies with device</td>\n",
       "      <td>4.2 and up</td>\n",
       "    </tr>\n",
       "    <tr>\n",
       "      <th>4</th>\n",
       "      <td>Pixel Draw - Number Art Coloring Book</td>\n",
       "      <td>ART_AND_DESIGN</td>\n",
       "      <td>4.3</td>\n",
       "      <td>967</td>\n",
       "      <td>2.8M</td>\n",
       "      <td>100,000+</td>\n",
       "      <td>Free</td>\n",
       "      <td>0</td>\n",
       "      <td>Everyone</td>\n",
       "      <td>Art &amp; Design;Creativity</td>\n",
       "      <td>June 20, 2018</td>\n",
       "      <td>1.1</td>\n",
       "      <td>4.4 and up</td>\n",
       "    </tr>\n",
       "    <tr>\n",
       "      <th>...</th>\n",
       "      <td>...</td>\n",
       "      <td>...</td>\n",
       "      <td>...</td>\n",
       "      <td>...</td>\n",
       "      <td>...</td>\n",
       "      <td>...</td>\n",
       "      <td>...</td>\n",
       "      <td>...</td>\n",
       "      <td>...</td>\n",
       "      <td>...</td>\n",
       "      <td>...</td>\n",
       "      <td>...</td>\n",
       "      <td>...</td>\n",
       "    </tr>\n",
       "    <tr>\n",
       "      <th>10836</th>\n",
       "      <td>Sya9a Maroc - FR</td>\n",
       "      <td>FAMILY</td>\n",
       "      <td>4.5</td>\n",
       "      <td>38</td>\n",
       "      <td>53M</td>\n",
       "      <td>5,000+</td>\n",
       "      <td>Free</td>\n",
       "      <td>0</td>\n",
       "      <td>Everyone</td>\n",
       "      <td>Education</td>\n",
       "      <td>July 25, 2017</td>\n",
       "      <td>1.48</td>\n",
       "      <td>4.1 and up</td>\n",
       "    </tr>\n",
       "    <tr>\n",
       "      <th>10837</th>\n",
       "      <td>Fr. Mike Schmitz Audio Teachings</td>\n",
       "      <td>FAMILY</td>\n",
       "      <td>5.0</td>\n",
       "      <td>4</td>\n",
       "      <td>3.6M</td>\n",
       "      <td>100+</td>\n",
       "      <td>Free</td>\n",
       "      <td>0</td>\n",
       "      <td>Everyone</td>\n",
       "      <td>Education</td>\n",
       "      <td>July 6, 2018</td>\n",
       "      <td>1.0</td>\n",
       "      <td>4.1 and up</td>\n",
       "    </tr>\n",
       "    <tr>\n",
       "      <th>10838</th>\n",
       "      <td>Parkinson Exercices FR</td>\n",
       "      <td>MEDICAL</td>\n",
       "      <td>NaN</td>\n",
       "      <td>3</td>\n",
       "      <td>9.5M</td>\n",
       "      <td>1,000+</td>\n",
       "      <td>Free</td>\n",
       "      <td>0</td>\n",
       "      <td>Everyone</td>\n",
       "      <td>Medical</td>\n",
       "      <td>January 20, 2017</td>\n",
       "      <td>1.0</td>\n",
       "      <td>2.2 and up</td>\n",
       "    </tr>\n",
       "    <tr>\n",
       "      <th>10839</th>\n",
       "      <td>The SCP Foundation DB fr nn5n</td>\n",
       "      <td>BOOKS_AND_REFERENCE</td>\n",
       "      <td>4.5</td>\n",
       "      <td>114</td>\n",
       "      <td>Varies with device</td>\n",
       "      <td>1,000+</td>\n",
       "      <td>Free</td>\n",
       "      <td>0</td>\n",
       "      <td>Mature 17+</td>\n",
       "      <td>Books &amp; Reference</td>\n",
       "      <td>January 19, 2015</td>\n",
       "      <td>Varies with device</td>\n",
       "      <td>Varies with device</td>\n",
       "    </tr>\n",
       "    <tr>\n",
       "      <th>10840</th>\n",
       "      <td>iHoroscope - 2018 Daily Horoscope &amp; Astrology</td>\n",
       "      <td>LIFESTYLE</td>\n",
       "      <td>4.5</td>\n",
       "      <td>398307</td>\n",
       "      <td>19M</td>\n",
       "      <td>10,000,000+</td>\n",
       "      <td>Free</td>\n",
       "      <td>0</td>\n",
       "      <td>Everyone</td>\n",
       "      <td>Lifestyle</td>\n",
       "      <td>July 25, 2018</td>\n",
       "      <td>Varies with device</td>\n",
       "      <td>Varies with device</td>\n",
       "    </tr>\n",
       "  </tbody>\n",
       "</table>\n",
       "<p>10841 rows × 13 columns</p>\n",
       "</div>"
      ],
      "text/plain": [
       "                                                     App             Category  \\\n",
       "0         Photo Editor & Candy Camera & Grid & ScrapBook       ART_AND_DESIGN   \n",
       "1                                    Coloring book moana       ART_AND_DESIGN   \n",
       "2      U Launcher Lite – FREE Live Cool Themes, Hide ...       ART_AND_DESIGN   \n",
       "3                                  Sketch - Draw & Paint       ART_AND_DESIGN   \n",
       "4                  Pixel Draw - Number Art Coloring Book       ART_AND_DESIGN   \n",
       "...                                                  ...                  ...   \n",
       "10836                                   Sya9a Maroc - FR               FAMILY   \n",
       "10837                   Fr. Mike Schmitz Audio Teachings               FAMILY   \n",
       "10838                             Parkinson Exercices FR              MEDICAL   \n",
       "10839                      The SCP Foundation DB fr nn5n  BOOKS_AND_REFERENCE   \n",
       "10840      iHoroscope - 2018 Daily Horoscope & Astrology            LIFESTYLE   \n",
       "\n",
       "       Rating Reviews                Size     Installs  Type Price  \\\n",
       "0         4.1     159                 19M      10,000+  Free     0   \n",
       "1         3.9     967                 14M     500,000+  Free     0   \n",
       "2         4.7   87510                8.7M   5,000,000+  Free     0   \n",
       "3         4.5  215644                 25M  50,000,000+  Free     0   \n",
       "4         4.3     967                2.8M     100,000+  Free     0   \n",
       "...       ...     ...                 ...          ...   ...   ...   \n",
       "10836     4.5      38                 53M       5,000+  Free     0   \n",
       "10837     5.0       4                3.6M         100+  Free     0   \n",
       "10838     NaN       3                9.5M       1,000+  Free     0   \n",
       "10839     4.5     114  Varies with device       1,000+  Free     0   \n",
       "10840     4.5  398307                 19M  10,000,000+  Free     0   \n",
       "\n",
       "      Content Rating                     Genres      Last Updated  \\\n",
       "0           Everyone               Art & Design   January 7, 2018   \n",
       "1           Everyone  Art & Design;Pretend Play  January 15, 2018   \n",
       "2           Everyone               Art & Design    August 1, 2018   \n",
       "3               Teen               Art & Design      June 8, 2018   \n",
       "4           Everyone    Art & Design;Creativity     June 20, 2018   \n",
       "...              ...                        ...               ...   \n",
       "10836       Everyone                  Education     July 25, 2017   \n",
       "10837       Everyone                  Education      July 6, 2018   \n",
       "10838       Everyone                    Medical  January 20, 2017   \n",
       "10839     Mature 17+          Books & Reference  January 19, 2015   \n",
       "10840       Everyone                  Lifestyle     July 25, 2018   \n",
       "\n",
       "              Current Ver         Android Ver  \n",
       "0                   1.0.0        4.0.3 and up  \n",
       "1                   2.0.0        4.0.3 and up  \n",
       "2                   1.2.4        4.0.3 and up  \n",
       "3      Varies with device          4.2 and up  \n",
       "4                     1.1          4.4 and up  \n",
       "...                   ...                 ...  \n",
       "10836                1.48          4.1 and up  \n",
       "10837                 1.0          4.1 and up  \n",
       "10838                 1.0          2.2 and up  \n",
       "10839  Varies with device  Varies with device  \n",
       "10840  Varies with device  Varies with device  \n",
       "\n",
       "[10841 rows x 13 columns]"
      ]
     },
     "execution_count": 4,
     "metadata": {},
     "output_type": "execute_result"
    }
   ],
   "source": [
    "Appsdata=pd.read_csv('googleplaystore.csv') ##1. Load the data using Pandas\n",
    "Appsdata"
   ]
  },
  {
   "cell_type": "code",
   "execution_count": 5,
   "metadata": {},
   "outputs": [
    {
     "data": {
      "text/plain": [
       "App                  0\n",
       "Category             0\n",
       "Rating            1474\n",
       "Reviews              0\n",
       "Size                 0\n",
       "Installs             0\n",
       "Type                 1\n",
       "Price                0\n",
       "Content Rating       1\n",
       "Genres               0\n",
       "Last Updated         0\n",
       "Current Ver          8\n",
       "Android Ver          3\n",
       "dtype: int64"
      ]
     },
     "execution_count": 5,
     "metadata": {},
     "output_type": "execute_result"
    }
   ],
   "source": [
    "Appsdata.isnull().sum() ## 2. Get the number of null values for each column"
   ]
  },
  {
   "cell_type": "code",
   "execution_count": 6,
   "metadata": {},
   "outputs": [
    {
     "data": {
      "text/plain": [
       "App               0\n",
       "Category          0\n",
       "Rating            0\n",
       "Reviews           0\n",
       "Size              0\n",
       "Installs          0\n",
       "Type              0\n",
       "Price             0\n",
       "Content Rating    0\n",
       "Genres            0\n",
       "Last Updated      0\n",
       "Current Ver       0\n",
       "Android Ver       0\n",
       "dtype: int64"
      ]
     },
     "execution_count": 6,
     "metadata": {},
     "output_type": "execute_result"
    }
   ],
   "source": [
    "Appsdata.dropna(subset=['Current Ver','Android Ver','Type'],inplace=True) # 3. Drop the records with nulls in any of the columns\n",
    "Appsdata=Appsdata.fillna({'Rating':Appsdata['Rating'].median(),'Content Rating':Appsdata['Rating'].median()}) # Imputed the median values\n",
    "Appsdata.isnull().sum()"
   ]
  },
  {
   "cell_type": "code",
   "execution_count": 7,
   "metadata": {},
   "outputs": [],
   "source": [
    "Appsdata.columns=['App', 'Category', 'Rating', 'Reviews', 'Size', 'Installs', 'Type',\n",
    "       'Price', 'Content_Rating', 'Genres', 'Last_Updated', 'Current_Ver',\n",
    "       'Android_Ver'] #### Formating/Renaming the Columns/Variables"
   ]
  },
  {
   "cell_type": "code",
   "execution_count": 8,
   "metadata": {},
   "outputs": [
    {
     "name": "stdout",
     "output_type": "stream",
     "text": [
      "<class 'pandas.core.frame.DataFrame'>\n",
      "Int64Index: 10829 entries, 0 to 10840\n",
      "Data columns (total 13 columns):\n",
      " #   Column          Non-Null Count  Dtype  \n",
      "---  ------          --------------  -----  \n",
      " 0   App             10829 non-null  object \n",
      " 1   Category        10829 non-null  object \n",
      " 2   Rating          10829 non-null  float64\n",
      " 3   Reviews         10829 non-null  object \n",
      " 4   Size            10829 non-null  object \n",
      " 5   Installs        10829 non-null  object \n",
      " 6   Type            10829 non-null  object \n",
      " 7   Price           10829 non-null  object \n",
      " 8   Content_Rating  10829 non-null  object \n",
      " 9   Genres          10829 non-null  object \n",
      " 10  Last_Updated    10829 non-null  object \n",
      " 11  Current_Ver     10829 non-null  object \n",
      " 12  Android_Ver     10829 non-null  object \n",
      "dtypes: float64(1), object(12)\n",
      "memory usage: 1.2+ MB\n"
     ]
    }
   ],
   "source": [
    "Appsdata.info()"
   ]
  },
  {
   "cell_type": "code",
   "execution_count": 9,
   "metadata": {},
   "outputs": [
    {
     "data": {
      "text/html": [
       "<div>\n",
       "<style scoped>\n",
       "    .dataframe tbody tr th:only-of-type {\n",
       "        vertical-align: middle;\n",
       "    }\n",
       "\n",
       "    .dataframe tbody tr th {\n",
       "        vertical-align: top;\n",
       "    }\n",
       "\n",
       "    .dataframe thead th {\n",
       "        text-align: right;\n",
       "    }\n",
       "</style>\n",
       "<table border=\"1\" class=\"dataframe\">\n",
       "  <thead>\n",
       "    <tr style=\"text-align: right;\">\n",
       "      <th></th>\n",
       "      <th>count</th>\n",
       "      <th>unique</th>\n",
       "      <th>top</th>\n",
       "      <th>freq</th>\n",
       "      <th>mean</th>\n",
       "      <th>std</th>\n",
       "      <th>min</th>\n",
       "      <th>25%</th>\n",
       "      <th>50%</th>\n",
       "      <th>75%</th>\n",
       "      <th>max</th>\n",
       "    </tr>\n",
       "  </thead>\n",
       "  <tbody>\n",
       "    <tr>\n",
       "      <th>App</th>\n",
       "      <td>10829</td>\n",
       "      <td>9648</td>\n",
       "      <td>ROBLOX</td>\n",
       "      <td>9</td>\n",
       "      <td>NaN</td>\n",
       "      <td>NaN</td>\n",
       "      <td>NaN</td>\n",
       "      <td>NaN</td>\n",
       "      <td>NaN</td>\n",
       "      <td>NaN</td>\n",
       "      <td>NaN</td>\n",
       "    </tr>\n",
       "    <tr>\n",
       "      <th>Category</th>\n",
       "      <td>10829</td>\n",
       "      <td>33</td>\n",
       "      <td>FAMILY</td>\n",
       "      <td>1968</td>\n",
       "      <td>NaN</td>\n",
       "      <td>NaN</td>\n",
       "      <td>NaN</td>\n",
       "      <td>NaN</td>\n",
       "      <td>NaN</td>\n",
       "      <td>NaN</td>\n",
       "      <td>NaN</td>\n",
       "    </tr>\n",
       "    <tr>\n",
       "      <th>Rating</th>\n",
       "      <td>10829</td>\n",
       "      <td>NaN</td>\n",
       "      <td>NaN</td>\n",
       "      <td>NaN</td>\n",
       "      <td>4.20651</td>\n",
       "      <td>0.480467</td>\n",
       "      <td>1</td>\n",
       "      <td>4.1</td>\n",
       "      <td>4.3</td>\n",
       "      <td>4.5</td>\n",
       "      <td>5</td>\n",
       "    </tr>\n",
       "    <tr>\n",
       "      <th>Reviews</th>\n",
       "      <td>10829</td>\n",
       "      <td>5999</td>\n",
       "      <td>0</td>\n",
       "      <td>594</td>\n",
       "      <td>NaN</td>\n",
       "      <td>NaN</td>\n",
       "      <td>NaN</td>\n",
       "      <td>NaN</td>\n",
       "      <td>NaN</td>\n",
       "      <td>NaN</td>\n",
       "      <td>NaN</td>\n",
       "    </tr>\n",
       "    <tr>\n",
       "      <th>Size</th>\n",
       "      <td>10829</td>\n",
       "      <td>457</td>\n",
       "      <td>Varies with device</td>\n",
       "      <td>1694</td>\n",
       "      <td>NaN</td>\n",
       "      <td>NaN</td>\n",
       "      <td>NaN</td>\n",
       "      <td>NaN</td>\n",
       "      <td>NaN</td>\n",
       "      <td>NaN</td>\n",
       "      <td>NaN</td>\n",
       "    </tr>\n",
       "    <tr>\n",
       "      <th>Installs</th>\n",
       "      <td>10829</td>\n",
       "      <td>20</td>\n",
       "      <td>1,000,000+</td>\n",
       "      <td>1578</td>\n",
       "      <td>NaN</td>\n",
       "      <td>NaN</td>\n",
       "      <td>NaN</td>\n",
       "      <td>NaN</td>\n",
       "      <td>NaN</td>\n",
       "      <td>NaN</td>\n",
       "      <td>NaN</td>\n",
       "    </tr>\n",
       "    <tr>\n",
       "      <th>Type</th>\n",
       "      <td>10829</td>\n",
       "      <td>2</td>\n",
       "      <td>Free</td>\n",
       "      <td>10032</td>\n",
       "      <td>NaN</td>\n",
       "      <td>NaN</td>\n",
       "      <td>NaN</td>\n",
       "      <td>NaN</td>\n",
       "      <td>NaN</td>\n",
       "      <td>NaN</td>\n",
       "      <td>NaN</td>\n",
       "    </tr>\n",
       "    <tr>\n",
       "      <th>Price</th>\n",
       "      <td>10829</td>\n",
       "      <td>92</td>\n",
       "      <td>0</td>\n",
       "      <td>10032</td>\n",
       "      <td>NaN</td>\n",
       "      <td>NaN</td>\n",
       "      <td>NaN</td>\n",
       "      <td>NaN</td>\n",
       "      <td>NaN</td>\n",
       "      <td>NaN</td>\n",
       "      <td>NaN</td>\n",
       "    </tr>\n",
       "    <tr>\n",
       "      <th>Content_Rating</th>\n",
       "      <td>10829</td>\n",
       "      <td>6</td>\n",
       "      <td>Everyone</td>\n",
       "      <td>8704</td>\n",
       "      <td>NaN</td>\n",
       "      <td>NaN</td>\n",
       "      <td>NaN</td>\n",
       "      <td>NaN</td>\n",
       "      <td>NaN</td>\n",
       "      <td>NaN</td>\n",
       "      <td>NaN</td>\n",
       "    </tr>\n",
       "    <tr>\n",
       "      <th>Genres</th>\n",
       "      <td>10829</td>\n",
       "      <td>119</td>\n",
       "      <td>Tools</td>\n",
       "      <td>840</td>\n",
       "      <td>NaN</td>\n",
       "      <td>NaN</td>\n",
       "      <td>NaN</td>\n",
       "      <td>NaN</td>\n",
       "      <td>NaN</td>\n",
       "      <td>NaN</td>\n",
       "      <td>NaN</td>\n",
       "    </tr>\n",
       "    <tr>\n",
       "      <th>Last_Updated</th>\n",
       "      <td>10829</td>\n",
       "      <td>1376</td>\n",
       "      <td>August 3, 2018</td>\n",
       "      <td>326</td>\n",
       "      <td>NaN</td>\n",
       "      <td>NaN</td>\n",
       "      <td>NaN</td>\n",
       "      <td>NaN</td>\n",
       "      <td>NaN</td>\n",
       "      <td>NaN</td>\n",
       "      <td>NaN</td>\n",
       "    </tr>\n",
       "    <tr>\n",
       "      <th>Current_Ver</th>\n",
       "      <td>10829</td>\n",
       "      <td>2831</td>\n",
       "      <td>Varies with device</td>\n",
       "      <td>1458</td>\n",
       "      <td>NaN</td>\n",
       "      <td>NaN</td>\n",
       "      <td>NaN</td>\n",
       "      <td>NaN</td>\n",
       "      <td>NaN</td>\n",
       "      <td>NaN</td>\n",
       "      <td>NaN</td>\n",
       "    </tr>\n",
       "    <tr>\n",
       "      <th>Android_Ver</th>\n",
       "      <td>10829</td>\n",
       "      <td>33</td>\n",
       "      <td>4.1 and up</td>\n",
       "      <td>2451</td>\n",
       "      <td>NaN</td>\n",
       "      <td>NaN</td>\n",
       "      <td>NaN</td>\n",
       "      <td>NaN</td>\n",
       "      <td>NaN</td>\n",
       "      <td>NaN</td>\n",
       "      <td>NaN</td>\n",
       "    </tr>\n",
       "  </tbody>\n",
       "</table>\n",
       "</div>"
      ],
      "text/plain": [
       "                count unique                 top   freq     mean       std  \\\n",
       "App             10829   9648              ROBLOX      9      NaN       NaN   \n",
       "Category        10829     33              FAMILY   1968      NaN       NaN   \n",
       "Rating          10829    NaN                 NaN    NaN  4.20651  0.480467   \n",
       "Reviews         10829   5999                   0    594      NaN       NaN   \n",
       "Size            10829    457  Varies with device   1694      NaN       NaN   \n",
       "Installs        10829     20          1,000,000+   1578      NaN       NaN   \n",
       "Type            10829      2                Free  10032      NaN       NaN   \n",
       "Price           10829     92                   0  10032      NaN       NaN   \n",
       "Content_Rating  10829      6            Everyone   8704      NaN       NaN   \n",
       "Genres          10829    119               Tools    840      NaN       NaN   \n",
       "Last_Updated    10829   1376      August 3, 2018    326      NaN       NaN   \n",
       "Current_Ver     10829   2831  Varies with device   1458      NaN       NaN   \n",
       "Android_Ver     10829     33          4.1 and up   2451      NaN       NaN   \n",
       "\n",
       "                min  25%  50%  75%  max  \n",
       "App             NaN  NaN  NaN  NaN  NaN  \n",
       "Category        NaN  NaN  NaN  NaN  NaN  \n",
       "Rating            1  4.1  4.3  4.5    5  \n",
       "Reviews         NaN  NaN  NaN  NaN  NaN  \n",
       "Size            NaN  NaN  NaN  NaN  NaN  \n",
       "Installs        NaN  NaN  NaN  NaN  NaN  \n",
       "Type            NaN  NaN  NaN  NaN  NaN  \n",
       "Price           NaN  NaN  NaN  NaN  NaN  \n",
       "Content_Rating  NaN  NaN  NaN  NaN  NaN  \n",
       "Genres          NaN  NaN  NaN  NaN  NaN  \n",
       "Last_Updated    NaN  NaN  NaN  NaN  NaN  \n",
       "Current_Ver     NaN  NaN  NaN  NaN  NaN  \n",
       "Android_Ver     NaN  NaN  NaN  NaN  NaN  "
      ]
     },
     "execution_count": 9,
     "metadata": {},
     "output_type": "execute_result"
    }
   ],
   "source": [
    "Appsdata.describe(include='all').transpose()"
   ]
  },
  {
   "cell_type": "code",
   "execution_count": 10,
   "metadata": {},
   "outputs": [],
   "source": [
    "# val = 5\n",
    "#for element in enumerate['Size']:\n",
    "   # try:\n",
    "        #Appsdata['Size'][5] = float(element[:-1])*1000 if element[-1] == 'M' else element\n",
    "   # except Exception as E:\n",
    "        #print (E)\n",
    "       # break\n",
    "\n",
    "#print (val)\n",
    "#Appsdata['Size']"
   ]
  },
  {
   "cell_type": "code",
   "execution_count": 11,
   "metadata": {},
   "outputs": [],
   "source": [
    "def convert_to_int(val):\n",
    "    \"\"\"\n",
    "    Function to convert each value of size to integer based on the conditon\n",
    "    \"\"\"\n",
    "    if val[-1] == 'M':\n",
    "        val = val.replace('M', '')\n",
    "        if val.isnumeric():\n",
    "            return int(val)\n",
    "    \n",
    "    if val[-1] == 'k':\n",
    "        val = val.replace('k', '')\n",
    "        if val.isnumeric():\n",
    "            return int(val)\n",
    "    return np.NaN\n",
    "\n",
    "def format_install_values(val):\n",
    "    val = val\n",
    "    if ',' in val:\n",
    "        val=val.replace(',','')\n",
    "    if '+' in val:\n",
    "        val = val.replace('+', '')\n",
    "        \n",
    "    return int(val)\n",
    "\n",
    "def format_price_values(val):\n",
    "    if '$'in val:\n",
    "        val=val.replace('$','')\n",
    "\n",
    "    return float(val)    \n",
    "    \n",
    "        \n",
    "Appsdata['Size'] = Appsdata['Size'].apply(convert_to_int)\n",
    "Appsdata['Size'] = Appsdata['Size'].fillna(Appsdata['Size'].median())\n",
    "### Apply will replace a for loop\n",
    "Appsdata['Installs'] = Appsdata['Installs'].apply(format_install_values)\n",
    "Appsdata['Price'] = Appsdata['Price'].apply(format_price_values)"
   ]
  },
  {
   "cell_type": "code",
   "execution_count": 12,
   "metadata": {},
   "outputs": [],
   "source": [
    "Appsdata['Reviews']=Appsdata['Reviews'].astype(int) ### Reviews is a numeric field that is loaded as a string field. Convert it to numeric (int/float).\n"
   ]
  },
  {
   "cell_type": "code",
   "execution_count": 13,
   "metadata": {},
   "outputs": [
    {
     "name": "stdout",
     "output_type": "stream",
     "text": [
      "<class 'pandas.core.frame.DataFrame'>\n",
      "Int64Index: 10829 entries, 0 to 10840\n",
      "Data columns (total 13 columns):\n",
      " #   Column          Non-Null Count  Dtype  \n",
      "---  ------          --------------  -----  \n",
      " 0   App             10829 non-null  object \n",
      " 1   Category        10829 non-null  object \n",
      " 2   Rating          10829 non-null  float64\n",
      " 3   Reviews         10829 non-null  int32  \n",
      " 4   Size            10829 non-null  float64\n",
      " 5   Installs        10829 non-null  int64  \n",
      " 6   Type            10829 non-null  object \n",
      " 7   Price           10829 non-null  float64\n",
      " 8   Content_Rating  10829 non-null  object \n",
      " 9   Genres          10829 non-null  object \n",
      " 10  Last_Updated    10829 non-null  object \n",
      " 11  Current_Ver     10829 non-null  object \n",
      " 12  Android_Ver     10829 non-null  object \n",
      "dtypes: float64(3), int32(1), int64(1), object(8)\n",
      "memory usage: 1.1+ MB\n"
     ]
    }
   ],
   "source": [
    "Appsdata.info()"
   ]
  },
  {
   "cell_type": "code",
   "execution_count": 14,
   "metadata": {},
   "outputs": [],
   "source": [
    "Appsdata.drop(Appsdata[(Appsdata['Rating'] <1) & (Appsdata['Rating'] > 5)].index, inplace=True) ####1. Sanity checks"
   ]
  },
  {
   "cell_type": "code",
   "execution_count": 15,
   "metadata": {},
   "outputs": [
    {
     "data": {
      "text/plain": [
       "(10829, 13)"
      ]
     },
     "execution_count": 15,
     "metadata": {},
     "output_type": "execute_result"
    }
   ],
   "source": [
    "Appsdata.shape"
   ]
  },
  {
   "cell_type": "code",
   "execution_count": 16,
   "metadata": {},
   "outputs": [],
   "source": [
    "Appsdata.drop(Appsdata[(Appsdata['Reviews']) > (Appsdata['Installs'])].index,inplace=True) #### 2. Sanity checks:"
   ]
  },
  {
   "cell_type": "code",
   "execution_count": 17,
   "metadata": {},
   "outputs": [
    {
     "data": {
      "text/plain": [
       "(10818, 13)"
      ]
     },
     "execution_count": 17,
     "metadata": {},
     "output_type": "execute_result"
    }
   ],
   "source": [
    "Appsdata.shape"
   ]
  },
  {
   "cell_type": "code",
   "execution_count": 18,
   "metadata": {},
   "outputs": [],
   "source": [
    "Appsdata.drop(Appsdata[(Appsdata['Type']=='Free') & (Appsdata['Price']> 0)].index,inplace=True) ### 3. Sanity Checks"
   ]
  },
  {
   "cell_type": "code",
   "execution_count": 19,
   "metadata": {},
   "outputs": [
    {
     "data": {
      "text/plain": [
       "(10818, 13)"
      ]
     },
     "execution_count": 19,
     "metadata": {},
     "output_type": "execute_result"
    }
   ],
   "source": [
    "Appsdata.shape"
   ]
  },
  {
   "cell_type": "code",
   "execution_count": 20,
   "metadata": {},
   "outputs": [
    {
     "data": {
      "text/plain": [
       "count     10818\n",
       "unique        2\n",
       "top        Free\n",
       "freq      10027\n",
       "Name: Type, dtype: object"
      ]
     },
     "execution_count": 20,
     "metadata": {},
     "output_type": "execute_result"
    }
   ],
   "source": [
    "Appsdata['Type'].describe()"
   ]
  },
  {
   "cell_type": "markdown",
   "metadata": {},
   "source": [
    "# 5. Performing univariate analysis:"
   ]
  },
  {
   "cell_type": "code",
   "execution_count": 21,
   "metadata": {},
   "outputs": [],
   "source": [
    "#plt.figure(figsize=(12, 7))\n",
    "#Appsdata['Price'].value_counts()\n",
    "#sns.boxplot()"
   ]
  },
  {
   "cell_type": "code",
   "execution_count": 22,
   "metadata": {},
   "outputs": [
    {
     "data": {
      "text/plain": [
       "<matplotlib.axes._subplots.AxesSubplot at 0x25d1d327d88>"
      ]
     },
     "execution_count": 22,
     "metadata": {},
     "output_type": "execute_result"
    },
    {
     "data": {
      "image/png": "[encoded data removed]",
      "text/plain": [
       "<Figure size 432x288 with 1 Axes>"
      ]
     },
     "metadata": {
      "needs_background": "light"
     },
     "output_type": "display_data"
    }
   ],
   "source": [
    "sns.boxplot(Appsdata['Price'],orient='V',) ### Boxplot for Price"
   ]
  },
  {
   "cell_type": "code",
   "execution_count": 23,
   "metadata": {},
   "outputs": [
    {
     "data": {
      "text/plain": [
       "<matplotlib.axes._subplots.AxesSubplot at 0x25d1dd3a888>"
      ]
     },
     "execution_count": 23,
     "metadata": {},
     "output_type": "execute_result"
    },
    {
     "data": {
      "image/png": "[encoded data removed]",
      "text/plain": [
       "<Figure size 432x288 with 1 Axes>"
      ]
     },
     "metadata": {
      "needs_background": "light"
     },
     "output_type": "display_data"
    }
   ],
   "source": [
    "sns.boxplot(x='Reviews',data=Appsdata,palette='winter') ### Boxplot for Reviews"
   ]
  },
  {
   "cell_type": "code",
   "execution_count": 24,
   "metadata": {},
   "outputs": [
    {
     "data": {
      "text/plain": [
       "<matplotlib.axes._subplots.AxesSubplot at 0x25d1ddd9588>"
      ]
     },
     "execution_count": 24,
     "metadata": {},
     "output_type": "execute_result"
    },
    {
     "data": {
      "image/png": "[encoded data removed]",
      "text/plain": [
       "<Figure size 432x288 with 1 Axes>"
      ]
     },
     "metadata": {
      "needs_background": "light"
     },
     "output_type": "display_data"
    }
   ],
   "source": [
    "Appsdata['Rating'].head()## Histogram for Rating\n",
    "sns.distplot(Appsdata['Rating']) ### Distribution curve is more towards Higher Ratings"
   ]
  },
  {
   "cell_type": "code",
   "execution_count": 25,
   "metadata": {},
   "outputs": [
    {
     "data": {
      "text/plain": [
       "<matplotlib.axes._subplots.AxesSubplot at 0x25d1ded2848>"
      ]
     },
     "execution_count": 25,
     "metadata": {},
     "output_type": "execute_result"
    },
    {
     "data": {
      "image/png": "[encoded data removed]",
      "text/plain": [
       "<Figure size 432x288 with 1 Axes>"
      ]
     },
     "metadata": {
      "needs_background": "light"
     },
     "output_type": "display_data"
    }
   ],
   "source": [
    "Appsdata['Size'].tail() ### Histogram for Size\n",
    "sns.distplot(Appsdata['Size']) ## Size has more outliers"
   ]
  },
  {
   "cell_type": "markdown",
   "metadata": {},
   "source": [
    "## 6. Outlier Treatment"
   ]
  },
  {
   "cell_type": "code",
   "execution_count": 26,
   "metadata": {},
   "outputs": [
    {
     "data": {
      "text/html": [
       "<div>\n",
       "<style scoped>\n",
       "    .dataframe tbody tr th:only-of-type {\n",
       "        vertical-align: middle;\n",
       "    }\n",
       "\n",
       "    .dataframe tbody tr th {\n",
       "        vertical-align: top;\n",
       "    }\n",
       "\n",
       "    .dataframe thead th {\n",
       "        text-align: right;\n",
       "    }\n",
       "</style>\n",
       "<table border=\"1\" class=\"dataframe\">\n",
       "  <thead>\n",
       "    <tr style=\"text-align: right;\">\n",
       "      <th></th>\n",
       "      <th>count</th>\n",
       "      <th>mean</th>\n",
       "      <th>std</th>\n",
       "      <th>min</th>\n",
       "      <th>25%</th>\n",
       "      <th>50%</th>\n",
       "      <th>75%</th>\n",
       "      <th>max</th>\n",
       "    </tr>\n",
       "  </thead>\n",
       "  <tbody>\n",
       "    <tr>\n",
       "      <th>Rating</th>\n",
       "      <td>10818.0</td>\n",
       "      <td>4.205981e+00</td>\n",
       "      <td>4.803106e-01</td>\n",
       "      <td>1.0</td>\n",
       "      <td>4.1</td>\n",
       "      <td>4.3</td>\n",
       "      <td>4.5</td>\n",
       "      <td>5.000000e+00</td>\n",
       "    </tr>\n",
       "    <tr>\n",
       "      <th>Reviews</th>\n",
       "      <td>10818.0</td>\n",
       "      <td>4.450529e+05</td>\n",
       "      <td>2.930668e+06</td>\n",
       "      <td>0.0</td>\n",
       "      <td>38.0</td>\n",
       "      <td>2107.5</td>\n",
       "      <td>55077.0</td>\n",
       "      <td>7.815831e+07</td>\n",
       "    </tr>\n",
       "    <tr>\n",
       "      <th>Size</th>\n",
       "      <td>10818.0</td>\n",
       "      <td>4.322666e+01</td>\n",
       "      <td>8.872927e+01</td>\n",
       "      <td>10.0</td>\n",
       "      <td>27.0</td>\n",
       "      <td>28.0</td>\n",
       "      <td>28.0</td>\n",
       "      <td>1.020000e+03</td>\n",
       "    </tr>\n",
       "    <tr>\n",
       "      <th>Installs</th>\n",
       "      <td>10818.0</td>\n",
       "      <td>1.549564e+07</td>\n",
       "      <td>8.511295e+07</td>\n",
       "      <td>0.0</td>\n",
       "      <td>5000.0</td>\n",
       "      <td>100000.0</td>\n",
       "      <td>5000000.0</td>\n",
       "      <td>1.000000e+09</td>\n",
       "    </tr>\n",
       "    <tr>\n",
       "      <th>Price</th>\n",
       "      <td>10818.0</td>\n",
       "      <td>1.028403e+00</td>\n",
       "      <td>1.596587e+01</td>\n",
       "      <td>0.0</td>\n",
       "      <td>0.0</td>\n",
       "      <td>0.0</td>\n",
       "      <td>0.0</td>\n",
       "      <td>4.000000e+02</td>\n",
       "    </tr>\n",
       "  </tbody>\n",
       "</table>\n",
       "</div>"
      ],
      "text/plain": [
       "            count          mean           std   min     25%       50%  \\\n",
       "Rating    10818.0  4.205981e+00  4.803106e-01   1.0     4.1       4.3   \n",
       "Reviews   10818.0  4.450529e+05  2.930668e+06   0.0    38.0    2107.5   \n",
       "Size      10818.0  4.322666e+01  8.872927e+01  10.0    27.0      28.0   \n",
       "Installs  10818.0  1.549564e+07  8.511295e+07   0.0  5000.0  100000.0   \n",
       "Price     10818.0  1.028403e+00  1.596587e+01   0.0     0.0       0.0   \n",
       "\n",
       "                75%           max  \n",
       "Rating          4.5  5.000000e+00  \n",
       "Reviews     55077.0  7.815831e+07  \n",
       "Size           28.0  1.020000e+03  \n",
       "Installs  5000000.0  1.000000e+09  \n",
       "Price           0.0  4.000000e+02  "
      ]
     },
     "execution_count": 26,
     "metadata": {},
     "output_type": "execute_result"
    }
   ],
   "source": [
    "Appsdata.describe().transpose() ## Max price is 400 $. So 200$ is indeed not a very high price. "
   ]
  },
  {
   "cell_type": "code",
   "execution_count": 27,
   "metadata": {},
   "outputs": [],
   "source": [
    "#Appsdata.drop(Appsdata[(Appsdata['Price'].head(18))].index,axis=0,inplace=False) ### To drop the High prices\n",
    "Appsdata['Price'].sort_values(ascending=False).head() ## Identify the records of very high prices\n",
    "Appsdata.drop(Appsdata[(Appsdata['Price'] > 300)].index,inplace=True) ## Drop the records with very high prices"
   ]
  },
  {
   "cell_type": "code",
   "execution_count": 28,
   "metadata": {},
   "outputs": [],
   "source": [
    "Appsdata.drop(Appsdata[(Appsdata['Reviews'] > 2000000)].index,inplace=True) #Drop records having more than 2 million reviews"
   ]
  },
  {
   "cell_type": "code",
   "execution_count": 29,
   "metadata": {},
   "outputs": [
    {
     "data": {
      "text/plain": [
       "0     10000\n",
       "4    100000\n",
       "5     50000\n",
       "6     50000\n",
       "9     10000\n",
       "Name: Installs, dtype: int64"
      ]
     },
     "execution_count": 29,
     "metadata": {},
     "output_type": "execute_result"
    }
   ],
   "source": [
    "Appsdata.describe(percentiles=[0.1, 0.25, 0.5, 0.7, 0.9, 0.95, 0.99]).transpose() # Find out the different percentiles – 10, 25, 50, 70, 90, 95, 99\n",
    "Appsdata['Installs'].sort_values(ascending=False) ## Identify the records of very high installs\n",
    "Appsdata['Installs'].median()\n",
    "Appsdata.drop(Appsdata[(Appsdata['Installs'] > 100000.0)].index,inplace=True) ## Threshold i took as a median and dropped records of high values\n",
    "Appsdata['Installs'].head()"
   ]
  },
  {
   "cell_type": "code",
   "execution_count": 1,
   "metadata": {},
   "outputs": [
    {
     "ename": "NameError",
     "evalue": "name 'sns' is not defined",
     "output_type": "error",
     "traceback": [
      "\u001b[1;31m---------------------------------------------------------------------------\u001b[0m",
      "\u001b[1;31mNameError\u001b[0m                                 Traceback (most recent call last)",
      "\u001b[1;32m<ipython-input-1-610848029293>\u001b[0m in \u001b[0;36m<module>\u001b[1;34m\u001b[0m\n\u001b[0;32m      3\u001b[0m \u001b[1;31m#Appsdata['Percentile_25%'] = Appsdata['Installs'].apply(lambda x: (x/total)*100)\u001b[0m\u001b[1;33m\u001b[0m\u001b[1;33m\u001b[0m\u001b[1;33m\u001b[0m\u001b[0m\n\u001b[0;32m      4\u001b[0m \u001b[1;33m\u001b[0m\u001b[0m\n\u001b[1;32m----> 5\u001b[1;33m \u001b[0msns\u001b[0m\u001b[1;33m.\u001b[0m\u001b[0mdistplot\u001b[0m\u001b[1;33m(\u001b[0m\u001b[0mAppsdata\u001b[0m\u001b[1;33m[\u001b[0m\u001b[1;34m'Installs'\u001b[0m\u001b[1;33m]\u001b[0m\u001b[1;33m)\u001b[0m\u001b[1;33m\u001b[0m\u001b[1;33m\u001b[0m\u001b[0m\n\u001b[0m",
      "\u001b[1;31mNameError\u001b[0m: name 'sns' is not defined"
     ]
    }
   ],
   "source": [
    "#total = Appsdata['Installs'].sum()\n",
    "#total*0.5   \n",
    "#Appsdata['Percentile_25%'] = Appsdata['Installs'].apply(lambda x: (x/total)*100)\n",
    "\n",
    "sns.distplot(Appsdata['Installs'])\n"
   ]
  },
  {
   "cell_type": "code",
   "execution_count": 31,
   "metadata": {},
   "outputs": [
    {
     "data": {
      "text/html": [
       "<div>\n",
       "<style scoped>\n",
       "    .dataframe tbody tr th:only-of-type {\n",
       "        vertical-align: middle;\n",
       "    }\n",
       "\n",
       "    .dataframe tbody tr th {\n",
       "        vertical-align: top;\n",
       "    }\n",
       "\n",
       "    .dataframe thead th {\n",
       "        text-align: right;\n",
       "    }\n",
       "</style>\n",
       "<table border=\"1\" class=\"dataframe\">\n",
       "  <thead>\n",
       "    <tr style=\"text-align: right;\">\n",
       "      <th></th>\n",
       "      <th>App</th>\n",
       "      <th>Category</th>\n",
       "      <th>Rating</th>\n",
       "      <th>Reviews</th>\n",
       "      <th>Size</th>\n",
       "      <th>Installs</th>\n",
       "      <th>Type</th>\n",
       "      <th>Price</th>\n",
       "      <th>Content_Rating</th>\n",
       "      <th>Genres</th>\n",
       "      <th>Last_Updated</th>\n",
       "      <th>Current_Ver</th>\n",
       "      <th>Android_Ver</th>\n",
       "    </tr>\n",
       "  </thead>\n",
       "  <tbody>\n",
       "    <tr>\n",
       "      <th>0</th>\n",
       "      <td>Photo Editor &amp; Candy Camera &amp; Grid &amp; ScrapBook</td>\n",
       "      <td>ART_AND_DESIGN</td>\n",
       "      <td>4.1</td>\n",
       "      <td>159</td>\n",
       "      <td>19.0</td>\n",
       "      <td>10000</td>\n",
       "      <td>Free</td>\n",
       "      <td>0.0</td>\n",
       "      <td>Everyone</td>\n",
       "      <td>Art &amp; Design</td>\n",
       "      <td>January 7, 2018</td>\n",
       "      <td>1.0.0</td>\n",
       "      <td>4.0.3 and up</td>\n",
       "    </tr>\n",
       "    <tr>\n",
       "      <th>4</th>\n",
       "      <td>Pixel Draw - Number Art Coloring Book</td>\n",
       "      <td>ART_AND_DESIGN</td>\n",
       "      <td>4.3</td>\n",
       "      <td>967</td>\n",
       "      <td>28.0</td>\n",
       "      <td>100000</td>\n",
       "      <td>Free</td>\n",
       "      <td>0.0</td>\n",
       "      <td>Everyone</td>\n",
       "      <td>Art &amp; Design;Creativity</td>\n",
       "      <td>June 20, 2018</td>\n",
       "      <td>1.1</td>\n",
       "      <td>4.4 and up</td>\n",
       "    </tr>\n",
       "    <tr>\n",
       "      <th>5</th>\n",
       "      <td>Paper flowers instructions</td>\n",
       "      <td>ART_AND_DESIGN</td>\n",
       "      <td>4.4</td>\n",
       "      <td>167</td>\n",
       "      <td>28.0</td>\n",
       "      <td>50000</td>\n",
       "      <td>Free</td>\n",
       "      <td>0.0</td>\n",
       "      <td>Everyone</td>\n",
       "      <td>Art &amp; Design</td>\n",
       "      <td>March 26, 2017</td>\n",
       "      <td>1.0</td>\n",
       "      <td>2.3 and up</td>\n",
       "    </tr>\n",
       "    <tr>\n",
       "      <th>6</th>\n",
       "      <td>Smoke Effect Photo Maker - Smoke Editor</td>\n",
       "      <td>ART_AND_DESIGN</td>\n",
       "      <td>3.8</td>\n",
       "      <td>178</td>\n",
       "      <td>19.0</td>\n",
       "      <td>50000</td>\n",
       "      <td>Free</td>\n",
       "      <td>0.0</td>\n",
       "      <td>Everyone</td>\n",
       "      <td>Art &amp; Design</td>\n",
       "      <td>April 26, 2018</td>\n",
       "      <td>1.1</td>\n",
       "      <td>4.0.3 and up</td>\n",
       "    </tr>\n",
       "    <tr>\n",
       "      <th>9</th>\n",
       "      <td>Kids Paint Free - Drawing Fun</td>\n",
       "      <td>ART_AND_DESIGN</td>\n",
       "      <td>4.7</td>\n",
       "      <td>121</td>\n",
       "      <td>28.0</td>\n",
       "      <td>10000</td>\n",
       "      <td>Free</td>\n",
       "      <td>0.0</td>\n",
       "      <td>Everyone</td>\n",
       "      <td>Art &amp; Design;Creativity</td>\n",
       "      <td>July 3, 2018</td>\n",
       "      <td>2.8</td>\n",
       "      <td>4.0.3 and up</td>\n",
       "    </tr>\n",
       "    <tr>\n",
       "      <th>...</th>\n",
       "      <td>...</td>\n",
       "      <td>...</td>\n",
       "      <td>...</td>\n",
       "      <td>...</td>\n",
       "      <td>...</td>\n",
       "      <td>...</td>\n",
       "      <td>...</td>\n",
       "      <td>...</td>\n",
       "      <td>...</td>\n",
       "      <td>...</td>\n",
       "      <td>...</td>\n",
       "      <td>...</td>\n",
       "      <td>...</td>\n",
       "    </tr>\n",
       "    <tr>\n",
       "      <th>10835</th>\n",
       "      <td>FR Forms</td>\n",
       "      <td>BUSINESS</td>\n",
       "      <td>4.3</td>\n",
       "      <td>0</td>\n",
       "      <td>28.0</td>\n",
       "      <td>10</td>\n",
       "      <td>Free</td>\n",
       "      <td>0.0</td>\n",
       "      <td>Everyone</td>\n",
       "      <td>Business</td>\n",
       "      <td>September 29, 2016</td>\n",
       "      <td>1.1.5</td>\n",
       "      <td>4.0 and up</td>\n",
       "    </tr>\n",
       "    <tr>\n",
       "      <th>10836</th>\n",
       "      <td>Sya9a Maroc - FR</td>\n",
       "      <td>FAMILY</td>\n",
       "      <td>4.5</td>\n",
       "      <td>38</td>\n",
       "      <td>53.0</td>\n",
       "      <td>5000</td>\n",
       "      <td>Free</td>\n",
       "      <td>0.0</td>\n",
       "      <td>Everyone</td>\n",
       "      <td>Education</td>\n",
       "      <td>July 25, 2017</td>\n",
       "      <td>1.48</td>\n",
       "      <td>4.1 and up</td>\n",
       "    </tr>\n",
       "    <tr>\n",
       "      <th>10837</th>\n",
       "      <td>Fr. Mike Schmitz Audio Teachings</td>\n",
       "      <td>FAMILY</td>\n",
       "      <td>5.0</td>\n",
       "      <td>4</td>\n",
       "      <td>28.0</td>\n",
       "      <td>100</td>\n",
       "      <td>Free</td>\n",
       "      <td>0.0</td>\n",
       "      <td>Everyone</td>\n",
       "      <td>Education</td>\n",
       "      <td>July 6, 2018</td>\n",
       "      <td>1.0</td>\n",
       "      <td>4.1 and up</td>\n",
       "    </tr>\n",
       "    <tr>\n",
       "      <th>10838</th>\n",
       "      <td>Parkinson Exercices FR</td>\n",
       "      <td>MEDICAL</td>\n",
       "      <td>4.3</td>\n",
       "      <td>3</td>\n",
       "      <td>28.0</td>\n",
       "      <td>1000</td>\n",
       "      <td>Free</td>\n",
       "      <td>0.0</td>\n",
       "      <td>Everyone</td>\n",
       "      <td>Medical</td>\n",
       "      <td>January 20, 2017</td>\n",
       "      <td>1.0</td>\n",
       "      <td>2.2 and up</td>\n",
       "    </tr>\n",
       "    <tr>\n",
       "      <th>10839</th>\n",
       "      <td>The SCP Foundation DB fr nn5n</td>\n",
       "      <td>BOOKS_AND_REFERENCE</td>\n",
       "      <td>4.5</td>\n",
       "      <td>114</td>\n",
       "      <td>28.0</td>\n",
       "      <td>1000</td>\n",
       "      <td>Free</td>\n",
       "      <td>0.0</td>\n",
       "      <td>Mature 17+</td>\n",
       "      <td>Books &amp; Reference</td>\n",
       "      <td>January 19, 2015</td>\n",
       "      <td>Varies with device</td>\n",
       "      <td>Varies with device</td>\n",
       "    </tr>\n",
       "  </tbody>\n",
       "</table>\n",
       "<p>5854 rows × 13 columns</p>\n",
       "</div>"
      ],
      "text/plain": [
       "                                                  App             Category  \\\n",
       "0      Photo Editor & Candy Camera & Grid & ScrapBook       ART_AND_DESIGN   \n",
       "4               Pixel Draw - Number Art Coloring Book       ART_AND_DESIGN   \n",
       "5                          Paper flowers instructions       ART_AND_DESIGN   \n",
       "6             Smoke Effect Photo Maker - Smoke Editor       ART_AND_DESIGN   \n",
       "9                       Kids Paint Free - Drawing Fun       ART_AND_DESIGN   \n",
       "...                                               ...                  ...   \n",
       "10835                                        FR Forms             BUSINESS   \n",
       "10836                                Sya9a Maroc - FR               FAMILY   \n",
       "10837                Fr. Mike Schmitz Audio Teachings               FAMILY   \n",
       "10838                          Parkinson Exercices FR              MEDICAL   \n",
       "10839                   The SCP Foundation DB fr nn5n  BOOKS_AND_REFERENCE   \n",
       "\n",
       "       Rating  Reviews  Size  Installs  Type  Price Content_Rating  \\\n",
       "0         4.1      159  19.0     10000  Free    0.0       Everyone   \n",
       "4         4.3      967  28.0    100000  Free    0.0       Everyone   \n",
       "5         4.4      167  28.0     50000  Free    0.0       Everyone   \n",
       "6         3.8      178  19.0     50000  Free    0.0       Everyone   \n",
       "9         4.7      121  28.0     10000  Free    0.0       Everyone   \n",
       "...       ...      ...   ...       ...   ...    ...            ...   \n",
       "10835     4.3        0  28.0        10  Free    0.0       Everyone   \n",
       "10836     4.5       38  53.0      5000  Free    0.0       Everyone   \n",
       "10837     5.0        4  28.0       100  Free    0.0       Everyone   \n",
       "10838     4.3        3  28.0      1000  Free    0.0       Everyone   \n",
       "10839     4.5      114  28.0      1000  Free    0.0     Mature 17+   \n",
       "\n",
       "                        Genres        Last_Updated         Current_Ver  \\\n",
       "0                 Art & Design     January 7, 2018               1.0.0   \n",
       "4      Art & Design;Creativity       June 20, 2018                 1.1   \n",
       "5                 Art & Design      March 26, 2017                 1.0   \n",
       "6                 Art & Design      April 26, 2018                 1.1   \n",
       "9      Art & Design;Creativity        July 3, 2018                 2.8   \n",
       "...                        ...                 ...                 ...   \n",
       "10835                 Business  September 29, 2016               1.1.5   \n",
       "10836                Education       July 25, 2017                1.48   \n",
       "10837                Education        July 6, 2018                 1.0   \n",
       "10838                  Medical    January 20, 2017                 1.0   \n",
       "10839        Books & Reference    January 19, 2015  Varies with device   \n",
       "\n",
       "              Android_Ver  \n",
       "0            4.0.3 and up  \n",
       "4              4.4 and up  \n",
       "5              2.3 and up  \n",
       "6            4.0.3 and up  \n",
       "9            4.0.3 and up  \n",
       "...                   ...  \n",
       "10835          4.0 and up  \n",
       "10836          4.1 and up  \n",
       "10837          4.1 and up  \n",
       "10838          2.2 and up  \n",
       "10839  Varies with device  \n",
       "\n",
       "[5854 rows x 13 columns]"
      ]
     },
     "execution_count": 31,
     "metadata": {},
     "output_type": "execute_result"
    }
   ],
   "source": [
    "Appsdata"
   ]
  },
  {
   "cell_type": "markdown",
   "metadata": {},
   "source": [
    "# 7. Bivariate analysis: "
   ]
  },
  {
   "cell_type": "code",
   "execution_count": 32,
   "metadata": {},
   "outputs": [
    {
     "data": {
      "text/plain": [
       "<seaborn.axisgrid.FacetGrid at 0x25d1e074688>"
      ]
     },
     "execution_count": 32,
     "metadata": {},
     "output_type": "execute_result"
    },
    {
     "data": {
      "image/png": "[encoded data removed]",
      "text/plain": [
       "<Figure size 418.125x360 with 1 Axes>"
      ]
     },
     "metadata": {
      "needs_background": "light"
     },
     "output_type": "display_data"
    }
   ],
   "source": [
    "sns.lmplot(x='Rating',y='Price',hue='Type',data=Appsdata)"
   ]
  },
  {
   "cell_type": "code",
   "execution_count": 33,
   "metadata": {},
   "outputs": [
    {
     "data": {
      "text/plain": [
       "<seaborn.axisgrid.JointGrid at 0x25d1e15cec8>"
      ]
     },
     "execution_count": 33,
     "metadata": {},
     "output_type": "execute_result"
    },
    {
     "data": {
      "image/png": "[encoded data removed]",
      "text/plain": [
       "<Figure size 432x432 with 3 Axes>"
      ]
     },
     "metadata": {
      "needs_background": "light"
     },
     "output_type": "display_data"
    }
   ],
   "source": [
    "sns.jointplot(x='Rating',y='Price',data=Appsdata) ### Rating Increases with price"
   ]
  },
  {
   "cell_type": "code",
   "execution_count": 34,
   "metadata": {},
   "outputs": [
    {
     "data": {
      "text/plain": [
       "<seaborn.axisgrid.FacetGrid at 0x25d1e1e3fc8>"
      ]
     },
     "execution_count": 34,
     "metadata": {},
     "output_type": "execute_result"
    },
    {
     "data": {
      "image/png": "[encoded data removed]",
      "text/plain": [
       "<Figure size 360x360 with 1 Axes>"
      ]
     },
     "metadata": {
      "needs_background": "light"
     },
     "output_type": "display_data"
    }
   ],
   "source": [
    "sns.lmplot(x='Size',y='Rating',data=Appsdata) ###Rating vs. Size"
   ]
  },
  {
   "cell_type": "code",
   "execution_count": 35,
   "metadata": {},
   "outputs": [
    {
     "data": {
      "text/plain": [
       "<seaborn.axisgrid.JointGrid at 0x25d1e3c8908>"
      ]
     },
     "execution_count": 35,
     "metadata": {},
     "output_type": "execute_result"
    },
    {
     "data": {
      "image/png": "[encoded data removed]",
      "text/plain": [
       "<Figure size 432x432 with 3 Axes>"
      ]
     },
     "metadata": {
      "needs_background": "light"
     },
     "output_type": "display_data"
    }
   ],
   "source": [
    "sns.jointplot(x='Size',y='Rating',data=Appsdata) ## heavier apps rated better"
   ]
  },
  {
   "cell_type": "code",
   "execution_count": 36,
   "metadata": {},
   "outputs": [
    {
     "data": {
      "text/plain": [
       "<seaborn.axisgrid.FacetGrid at 0x25d1f5dce48>"
      ]
     },
     "execution_count": 36,
     "metadata": {},
     "output_type": "execute_result"
    },
    {
     "data": {
      "image/png": "[encoded data removed]",
      "text/plain": [
       "<Figure size 360x360 with 1 Axes>"
      ]
     },
     "metadata": {
      "needs_background": "light"
     },
     "output_type": "display_data"
    }
   ],
   "source": [
    "sns.lmplot(x='Rating',y='Reviews',data=Appsdata) ##Rating vs. Reviews"
   ]
  },
  {
   "cell_type": "code",
   "execution_count": 37,
   "metadata": {},
   "outputs": [
    {
     "data": {
      "text/plain": [
       "<seaborn.axisgrid.JointGrid at 0x25d1f6360c8>"
      ]
     },
     "execution_count": 37,
     "metadata": {},
     "output_type": "execute_result"
    },
    {
     "data": {
      "image/png": "[encoded data removed]",
      "text/plain": [
       "<Figure size 432x432 with 3 Axes>"
      ]
     },
     "metadata": {
      "needs_background": "light"
     },
     "output_type": "display_data"
    }
   ],
   "source": [
    "sns.jointplot(x='Rating',y='Reviews',data=Appsdata) ### more review mean a better rating always"
   ]
  },
  {
   "cell_type": "code",
   "execution_count": 38,
   "metadata": {},
   "outputs": [
    {
     "data": {
      "text/plain": [
       "<matplotlib.axes._subplots.AxesSubplot at 0x25d1f888cc8>"
      ]
     },
     "execution_count": 38,
     "metadata": {},
     "output_type": "execute_result"
    },
    {
     "data": {
      "image/png": "[encoded data removed]",
      "text/plain": [
       "<Figure size 432x288 with 1 Axes>"
      ]
     },
     "metadata": {
      "needs_background": "light"
     },
     "output_type": "display_data"
    }
   ],
   "source": [
    "sns.boxplot(x='Content_Rating',y='Rating',data=Appsdata) #Some Apps are liked better"
   ]
  },
  {
   "cell_type": "code",
   "execution_count": 39,
   "metadata": {},
   "outputs": [
    {
     "data": {
      "text/plain": [
       "<matplotlib.axes._subplots.AxesSubplot at 0x25d1f940208>"
      ]
     },
     "execution_count": 39,
     "metadata": {},
     "output_type": "execute_result"
    },
    {
     "data": {
      "image/png": "[encoded data removed]",
      "text/plain": [
       "<Figure size 720x720 with 1 Axes>"
      ]
     },
     "metadata": {},
     "output_type": "display_data"
    }
   ],
   "source": [
    "sns.set(rc={'figure.figsize':(10,10)})\n",
    "sns.boxplot(x='Category',y='Rating',data=Appsdata)"
   ]
  },
  {
   "cell_type": "markdown",
   "metadata": {},
   "source": [
    "# 8. Data preprocessing"
   ]
  },
  {
   "cell_type": "code",
   "execution_count": 40,
   "metadata": {},
   "outputs": [],
   "source": [
    "inp1=Appsdata.copy() ### Copying a dataframe"
   ]
  },
  {
   "cell_type": "code",
   "execution_count": 41,
   "metadata": {},
   "outputs": [
    {
     "name": "stdout",
     "output_type": "stream",
     "text": [
      "<class 'pandas.core.frame.DataFrame'>\n",
      "Int64Index: 5854 entries, 0 to 10839\n",
      "Data columns (total 13 columns):\n",
      " #   Column          Non-Null Count  Dtype  \n",
      "---  ------          --------------  -----  \n",
      " 0   App             5854 non-null   object \n",
      " 1   Category        5854 non-null   object \n",
      " 2   Rating          5854 non-null   float64\n",
      " 3   Reviews         5854 non-null   int32  \n",
      " 4   Size            5854 non-null   float64\n",
      " 5   Installs        5854 non-null   int64  \n",
      " 6   Type            5854 non-null   object \n",
      " 7   Price           5854 non-null   float64\n",
      " 8   Content_Rating  5854 non-null   object \n",
      " 9   Genres          5854 non-null   object \n",
      " 10  Last_Updated    5854 non-null   object \n",
      " 11  Current_Ver     5854 non-null   object \n",
      " 12  Android_Ver     5854 non-null   object \n",
      "dtypes: float64(3), int32(1), int64(1), object(8)\n",
      "memory usage: 617.4+ KB\n"
     ]
    }
   ],
   "source": [
    "inp1.info()"
   ]
  },
  {
   "cell_type": "code",
   "execution_count": 42,
   "metadata": {},
   "outputs": [
    {
     "data": {
      "text/html": [
       "<div>\n",
       "<style scoped>\n",
       "    .dataframe tbody tr th:only-of-type {\n",
       "        vertical-align: middle;\n",
       "    }\n",
       "\n",
       "    .dataframe tbody tr th {\n",
       "        vertical-align: top;\n",
       "    }\n",
       "\n",
       "    .dataframe thead th {\n",
       "        text-align: right;\n",
       "    }\n",
       "</style>\n",
       "<table border=\"1\" class=\"dataframe\">\n",
       "  <thead>\n",
       "    <tr style=\"text-align: right;\">\n",
       "      <th></th>\n",
       "      <th>App</th>\n",
       "      <th>Category</th>\n",
       "      <th>Rating</th>\n",
       "      <th>Reviews</th>\n",
       "      <th>Size</th>\n",
       "      <th>Installs</th>\n",
       "      <th>Type</th>\n",
       "      <th>Price</th>\n",
       "      <th>Content_Rating</th>\n",
       "      <th>Genres</th>\n",
       "      <th>Last_Updated</th>\n",
       "      <th>Current_Ver</th>\n",
       "      <th>Android_Ver</th>\n",
       "    </tr>\n",
       "  </thead>\n",
       "  <tbody>\n",
       "    <tr>\n",
       "      <th>0</th>\n",
       "      <td>Photo Editor &amp; Candy Camera &amp; Grid &amp; ScrapBook</td>\n",
       "      <td>ART_AND_DESIGN</td>\n",
       "      <td>4.1</td>\n",
       "      <td>159</td>\n",
       "      <td>19.0</td>\n",
       "      <td>10000</td>\n",
       "      <td>Free</td>\n",
       "      <td>0.0</td>\n",
       "      <td>Everyone</td>\n",
       "      <td>Art &amp; Design</td>\n",
       "      <td>January 7, 2018</td>\n",
       "      <td>1.0.0</td>\n",
       "      <td>4.0.3 and up</td>\n",
       "    </tr>\n",
       "    <tr>\n",
       "      <th>4</th>\n",
       "      <td>Pixel Draw - Number Art Coloring Book</td>\n",
       "      <td>ART_AND_DESIGN</td>\n",
       "      <td>4.3</td>\n",
       "      <td>967</td>\n",
       "      <td>28.0</td>\n",
       "      <td>100000</td>\n",
       "      <td>Free</td>\n",
       "      <td>0.0</td>\n",
       "      <td>Everyone</td>\n",
       "      <td>Art &amp; Design;Creativity</td>\n",
       "      <td>June 20, 2018</td>\n",
       "      <td>1.1</td>\n",
       "      <td>4.4 and up</td>\n",
       "    </tr>\n",
       "    <tr>\n",
       "      <th>5</th>\n",
       "      <td>Paper flowers instructions</td>\n",
       "      <td>ART_AND_DESIGN</td>\n",
       "      <td>4.4</td>\n",
       "      <td>167</td>\n",
       "      <td>28.0</td>\n",
       "      <td>50000</td>\n",
       "      <td>Free</td>\n",
       "      <td>0.0</td>\n",
       "      <td>Everyone</td>\n",
       "      <td>Art &amp; Design</td>\n",
       "      <td>March 26, 2017</td>\n",
       "      <td>1.0</td>\n",
       "      <td>2.3 and up</td>\n",
       "    </tr>\n",
       "    <tr>\n",
       "      <th>6</th>\n",
       "      <td>Smoke Effect Photo Maker - Smoke Editor</td>\n",
       "      <td>ART_AND_DESIGN</td>\n",
       "      <td>3.8</td>\n",
       "      <td>178</td>\n",
       "      <td>19.0</td>\n",
       "      <td>50000</td>\n",
       "      <td>Free</td>\n",
       "      <td>0.0</td>\n",
       "      <td>Everyone</td>\n",
       "      <td>Art &amp; Design</td>\n",
       "      <td>April 26, 2018</td>\n",
       "      <td>1.1</td>\n",
       "      <td>4.0.3 and up</td>\n",
       "    </tr>\n",
       "    <tr>\n",
       "      <th>9</th>\n",
       "      <td>Kids Paint Free - Drawing Fun</td>\n",
       "      <td>ART_AND_DESIGN</td>\n",
       "      <td>4.7</td>\n",
       "      <td>121</td>\n",
       "      <td>28.0</td>\n",
       "      <td>10000</td>\n",
       "      <td>Free</td>\n",
       "      <td>0.0</td>\n",
       "      <td>Everyone</td>\n",
       "      <td>Art &amp; Design;Creativity</td>\n",
       "      <td>July 3, 2018</td>\n",
       "      <td>2.8</td>\n",
       "      <td>4.0.3 and up</td>\n",
       "    </tr>\n",
       "    <tr>\n",
       "      <th>...</th>\n",
       "      <td>...</td>\n",
       "      <td>...</td>\n",
       "      <td>...</td>\n",
       "      <td>...</td>\n",
       "      <td>...</td>\n",
       "      <td>...</td>\n",
       "      <td>...</td>\n",
       "      <td>...</td>\n",
       "      <td>...</td>\n",
       "      <td>...</td>\n",
       "      <td>...</td>\n",
       "      <td>...</td>\n",
       "      <td>...</td>\n",
       "    </tr>\n",
       "    <tr>\n",
       "      <th>10835</th>\n",
       "      <td>FR Forms</td>\n",
       "      <td>BUSINESS</td>\n",
       "      <td>4.3</td>\n",
       "      <td>0</td>\n",
       "      <td>28.0</td>\n",
       "      <td>10</td>\n",
       "      <td>Free</td>\n",
       "      <td>0.0</td>\n",
       "      <td>Everyone</td>\n",
       "      <td>Business</td>\n",
       "      <td>September 29, 2016</td>\n",
       "      <td>1.1.5</td>\n",
       "      <td>4.0 and up</td>\n",
       "    </tr>\n",
       "    <tr>\n",
       "      <th>10836</th>\n",
       "      <td>Sya9a Maroc - FR</td>\n",
       "      <td>FAMILY</td>\n",
       "      <td>4.5</td>\n",
       "      <td>38</td>\n",
       "      <td>53.0</td>\n",
       "      <td>5000</td>\n",
       "      <td>Free</td>\n",
       "      <td>0.0</td>\n",
       "      <td>Everyone</td>\n",
       "      <td>Education</td>\n",
       "      <td>July 25, 2017</td>\n",
       "      <td>1.48</td>\n",
       "      <td>4.1 and up</td>\n",
       "    </tr>\n",
       "    <tr>\n",
       "      <th>10837</th>\n",
       "      <td>Fr. Mike Schmitz Audio Teachings</td>\n",
       "      <td>FAMILY</td>\n",
       "      <td>5.0</td>\n",
       "      <td>4</td>\n",
       "      <td>28.0</td>\n",
       "      <td>100</td>\n",
       "      <td>Free</td>\n",
       "      <td>0.0</td>\n",
       "      <td>Everyone</td>\n",
       "      <td>Education</td>\n",
       "      <td>July 6, 2018</td>\n",
       "      <td>1.0</td>\n",
       "      <td>4.1 and up</td>\n",
       "    </tr>\n",
       "    <tr>\n",
       "      <th>10838</th>\n",
       "      <td>Parkinson Exercices FR</td>\n",
       "      <td>MEDICAL</td>\n",
       "      <td>4.3</td>\n",
       "      <td>3</td>\n",
       "      <td>28.0</td>\n",
       "      <td>1000</td>\n",
       "      <td>Free</td>\n",
       "      <td>0.0</td>\n",
       "      <td>Everyone</td>\n",
       "      <td>Medical</td>\n",
       "      <td>January 20, 2017</td>\n",
       "      <td>1.0</td>\n",
       "      <td>2.2 and up</td>\n",
       "    </tr>\n",
       "    <tr>\n",
       "      <th>10839</th>\n",
       "      <td>The SCP Foundation DB fr nn5n</td>\n",
       "      <td>BOOKS_AND_REFERENCE</td>\n",
       "      <td>4.5</td>\n",
       "      <td>114</td>\n",
       "      <td>28.0</td>\n",
       "      <td>1000</td>\n",
       "      <td>Free</td>\n",
       "      <td>0.0</td>\n",
       "      <td>Mature 17+</td>\n",
       "      <td>Books &amp; Reference</td>\n",
       "      <td>January 19, 2015</td>\n",
       "      <td>Varies with device</td>\n",
       "      <td>Varies with device</td>\n",
       "    </tr>\n",
       "  </tbody>\n",
       "</table>\n",
       "<p>5854 rows × 13 columns</p>\n",
       "</div>"
      ],
      "text/plain": [
       "                                                  App             Category  \\\n",
       "0      Photo Editor & Candy Camera & Grid & ScrapBook       ART_AND_DESIGN   \n",
       "4               Pixel Draw - Number Art Coloring Book       ART_AND_DESIGN   \n",
       "5                          Paper flowers instructions       ART_AND_DESIGN   \n",
       "6             Smoke Effect Photo Maker - Smoke Editor       ART_AND_DESIGN   \n",
       "9                       Kids Paint Free - Drawing Fun       ART_AND_DESIGN   \n",
       "...                                               ...                  ...   \n",
       "10835                                        FR Forms             BUSINESS   \n",
       "10836                                Sya9a Maroc - FR               FAMILY   \n",
       "10837                Fr. Mike Schmitz Audio Teachings               FAMILY   \n",
       "10838                          Parkinson Exercices FR              MEDICAL   \n",
       "10839                   The SCP Foundation DB fr nn5n  BOOKS_AND_REFERENCE   \n",
       "\n",
       "       Rating  Reviews  Size  Installs  Type  Price Content_Rating  \\\n",
       "0         4.1      159  19.0     10000  Free    0.0       Everyone   \n",
       "4         4.3      967  28.0    100000  Free    0.0       Everyone   \n",
       "5         4.4      167  28.0     50000  Free    0.0       Everyone   \n",
       "6         3.8      178  19.0     50000  Free    0.0       Everyone   \n",
       "9         4.7      121  28.0     10000  Free    0.0       Everyone   \n",
       "...       ...      ...   ...       ...   ...    ...            ...   \n",
       "10835     4.3        0  28.0        10  Free    0.0       Everyone   \n",
       "10836     4.5       38  53.0      5000  Free    0.0       Everyone   \n",
       "10837     5.0        4  28.0       100  Free    0.0       Everyone   \n",
       "10838     4.3        3  28.0      1000  Free    0.0       Everyone   \n",
       "10839     4.5      114  28.0      1000  Free    0.0     Mature 17+   \n",
       "\n",
       "                        Genres        Last_Updated         Current_Ver  \\\n",
       "0                 Art & Design     January 7, 2018               1.0.0   \n",
       "4      Art & Design;Creativity       June 20, 2018                 1.1   \n",
       "5                 Art & Design      March 26, 2017                 1.0   \n",
       "6                 Art & Design      April 26, 2018                 1.1   \n",
       "9      Art & Design;Creativity        July 3, 2018                 2.8   \n",
       "...                        ...                 ...                 ...   \n",
       "10835                 Business  September 29, 2016               1.1.5   \n",
       "10836                Education       July 25, 2017                1.48   \n",
       "10837                Education        July 6, 2018                 1.0   \n",
       "10838                  Medical    January 20, 2017                 1.0   \n",
       "10839        Books & Reference    January 19, 2015  Varies with device   \n",
       "\n",
       "              Android_Ver  \n",
       "0            4.0.3 and up  \n",
       "4              4.4 and up  \n",
       "5              2.3 and up  \n",
       "6            4.0.3 and up  \n",
       "9            4.0.3 and up  \n",
       "...                   ...  \n",
       "10835          4.0 and up  \n",
       "10836          4.1 and up  \n",
       "10837          4.1 and up  \n",
       "10838          2.2 and up  \n",
       "10839  Varies with device  \n",
       "\n",
       "[5854 rows x 13 columns]"
      ]
     },
     "execution_count": 42,
     "metadata": {},
     "output_type": "execute_result"
    }
   ],
   "source": [
    "inp1"
   ]
  },
  {
   "cell_type": "code",
   "execution_count": 43,
   "metadata": {},
   "outputs": [
    {
     "data": {
      "text/plain": [
       "0        5.075174\n",
       "4        6.875232\n",
       "5        5.123964\n",
       "6        5.187386\n",
       "9        4.804021\n",
       "           ...   \n",
       "10835    0.000000\n",
       "10836    3.663562\n",
       "10837    1.609438\n",
       "10838    1.386294\n",
       "10839    4.744932\n",
       "Name: Reviews, Length: 5854, dtype: float64"
      ]
     },
     "execution_count": 43,
     "metadata": {},
     "output_type": "execute_result"
    }
   ],
   "source": [
    "inp1['Reviews'].apply(lambda x : np.log1p(x) if type(x) in [int,float] else 0)"
   ]
  },
  {
   "cell_type": "code",
   "execution_count": 44,
   "metadata": {},
   "outputs": [
    {
     "data": {
      "text/plain": [
       "0         9.210440\n",
       "4        11.512935\n",
       "5        10.819798\n",
       "6        10.819798\n",
       "9         9.210440\n",
       "           ...    \n",
       "10835     2.397895\n",
       "10836     8.517393\n",
       "10837     4.615121\n",
       "10838     6.908755\n",
       "10839     6.908755\n",
       "Name: Installs, Length: 5854, dtype: float64"
      ]
     },
     "execution_count": 44,
     "metadata": {},
     "output_type": "execute_result"
    }
   ],
   "source": [
    "inp1['Installs'].apply(lambda x : np.log1p(x) if type(x) in [int,float] else 0)"
   ]
  },
  {
   "cell_type": "code",
   "execution_count": 45,
   "metadata": {},
   "outputs": [],
   "source": [
    "inp1.drop(columns=['App','Last_Updated','Current_Ver','Android_Ver'], inplace=True)"
   ]
  },
  {
   "cell_type": "code",
   "execution_count": 46,
   "metadata": {},
   "outputs": [
    {
     "data": {
      "text/html": [
       "<div>\n",
       "<style scoped>\n",
       "    .dataframe tbody tr th:only-of-type {\n",
       "        vertical-align: middle;\n",
       "    }\n",
       "\n",
       "    .dataframe tbody tr th {\n",
       "        vertical-align: top;\n",
       "    }\n",
       "\n",
       "    .dataframe thead th {\n",
       "        text-align: right;\n",
       "    }\n",
       "</style>\n",
       "<table border=\"1\" class=\"dataframe\">\n",
       "  <thead>\n",
       "    <tr style=\"text-align: right;\">\n",
       "      <th></th>\n",
       "      <th>Category</th>\n",
       "      <th>Rating</th>\n",
       "      <th>Reviews</th>\n",
       "      <th>Size</th>\n",
       "      <th>Installs</th>\n",
       "      <th>Type</th>\n",
       "      <th>Price</th>\n",
       "      <th>Content_Rating</th>\n",
       "      <th>Genres</th>\n",
       "    </tr>\n",
       "  </thead>\n",
       "  <tbody>\n",
       "    <tr>\n",
       "      <th>0</th>\n",
       "      <td>ART_AND_DESIGN</td>\n",
       "      <td>4.1</td>\n",
       "      <td>159</td>\n",
       "      <td>19.0</td>\n",
       "      <td>10000</td>\n",
       "      <td>Free</td>\n",
       "      <td>0.0</td>\n",
       "      <td>Everyone</td>\n",
       "      <td>Art &amp; Design</td>\n",
       "    </tr>\n",
       "    <tr>\n",
       "      <th>4</th>\n",
       "      <td>ART_AND_DESIGN</td>\n",
       "      <td>4.3</td>\n",
       "      <td>967</td>\n",
       "      <td>28.0</td>\n",
       "      <td>100000</td>\n",
       "      <td>Free</td>\n",
       "      <td>0.0</td>\n",
       "      <td>Everyone</td>\n",
       "      <td>Art &amp; Design;Creativity</td>\n",
       "    </tr>\n",
       "    <tr>\n",
       "      <th>5</th>\n",
       "      <td>ART_AND_DESIGN</td>\n",
       "      <td>4.4</td>\n",
       "      <td>167</td>\n",
       "      <td>28.0</td>\n",
       "      <td>50000</td>\n",
       "      <td>Free</td>\n",
       "      <td>0.0</td>\n",
       "      <td>Everyone</td>\n",
       "      <td>Art &amp; Design</td>\n",
       "    </tr>\n",
       "    <tr>\n",
       "      <th>6</th>\n",
       "      <td>ART_AND_DESIGN</td>\n",
       "      <td>3.8</td>\n",
       "      <td>178</td>\n",
       "      <td>19.0</td>\n",
       "      <td>50000</td>\n",
       "      <td>Free</td>\n",
       "      <td>0.0</td>\n",
       "      <td>Everyone</td>\n",
       "      <td>Art &amp; Design</td>\n",
       "    </tr>\n",
       "    <tr>\n",
       "      <th>9</th>\n",
       "      <td>ART_AND_DESIGN</td>\n",
       "      <td>4.7</td>\n",
       "      <td>121</td>\n",
       "      <td>28.0</td>\n",
       "      <td>10000</td>\n",
       "      <td>Free</td>\n",
       "      <td>0.0</td>\n",
       "      <td>Everyone</td>\n",
       "      <td>Art &amp; Design;Creativity</td>\n",
       "    </tr>\n",
       "    <tr>\n",
       "      <th>...</th>\n",
       "      <td>...</td>\n",
       "      <td>...</td>\n",
       "      <td>...</td>\n",
       "      <td>...</td>\n",
       "      <td>...</td>\n",
       "      <td>...</td>\n",
       "      <td>...</td>\n",
       "      <td>...</td>\n",
       "      <td>...</td>\n",
       "    </tr>\n",
       "    <tr>\n",
       "      <th>10835</th>\n",
       "      <td>BUSINESS</td>\n",
       "      <td>4.3</td>\n",
       "      <td>0</td>\n",
       "      <td>28.0</td>\n",
       "      <td>10</td>\n",
       "      <td>Free</td>\n",
       "      <td>0.0</td>\n",
       "      <td>Everyone</td>\n",
       "      <td>Business</td>\n",
       "    </tr>\n",
       "    <tr>\n",
       "      <th>10836</th>\n",
       "      <td>FAMILY</td>\n",
       "      <td>4.5</td>\n",
       "      <td>38</td>\n",
       "      <td>53.0</td>\n",
       "      <td>5000</td>\n",
       "      <td>Free</td>\n",
       "      <td>0.0</td>\n",
       "      <td>Everyone</td>\n",
       "      <td>Education</td>\n",
       "    </tr>\n",
       "    <tr>\n",
       "      <th>10837</th>\n",
       "      <td>FAMILY</td>\n",
       "      <td>5.0</td>\n",
       "      <td>4</td>\n",
       "      <td>28.0</td>\n",
       "      <td>100</td>\n",
       "      <td>Free</td>\n",
       "      <td>0.0</td>\n",
       "      <td>Everyone</td>\n",
       "      <td>Education</td>\n",
       "    </tr>\n",
       "    <tr>\n",
       "      <th>10838</th>\n",
       "      <td>MEDICAL</td>\n",
       "      <td>4.3</td>\n",
       "      <td>3</td>\n",
       "      <td>28.0</td>\n",
       "      <td>1000</td>\n",
       "      <td>Free</td>\n",
       "      <td>0.0</td>\n",
       "      <td>Everyone</td>\n",
       "      <td>Medical</td>\n",
       "    </tr>\n",
       "    <tr>\n",
       "      <th>10839</th>\n",
       "      <td>BOOKS_AND_REFERENCE</td>\n",
       "      <td>4.5</td>\n",
       "      <td>114</td>\n",
       "      <td>28.0</td>\n",
       "      <td>1000</td>\n",
       "      <td>Free</td>\n",
       "      <td>0.0</td>\n",
       "      <td>Mature 17+</td>\n",
       "      <td>Books &amp; Reference</td>\n",
       "    </tr>\n",
       "  </tbody>\n",
       "</table>\n",
       "<p>5854 rows × 9 columns</p>\n",
       "</div>"
      ],
      "text/plain": [
       "                  Category  Rating  Reviews  Size  Installs  Type  Price  \\\n",
       "0           ART_AND_DESIGN     4.1      159  19.0     10000  Free    0.0   \n",
       "4           ART_AND_DESIGN     4.3      967  28.0    100000  Free    0.0   \n",
       "5           ART_AND_DESIGN     4.4      167  28.0     50000  Free    0.0   \n",
       "6           ART_AND_DESIGN     3.8      178  19.0     50000  Free    0.0   \n",
       "9           ART_AND_DESIGN     4.7      121  28.0     10000  Free    0.0   \n",
       "...                    ...     ...      ...   ...       ...   ...    ...   \n",
       "10835             BUSINESS     4.3        0  28.0        10  Free    0.0   \n",
       "10836               FAMILY     4.5       38  53.0      5000  Free    0.0   \n",
       "10837               FAMILY     5.0        4  28.0       100  Free    0.0   \n",
       "10838              MEDICAL     4.3        3  28.0      1000  Free    0.0   \n",
       "10839  BOOKS_AND_REFERENCE     4.5      114  28.0      1000  Free    0.0   \n",
       "\n",
       "      Content_Rating                   Genres  \n",
       "0           Everyone             Art & Design  \n",
       "4           Everyone  Art & Design;Creativity  \n",
       "5           Everyone             Art & Design  \n",
       "6           Everyone             Art & Design  \n",
       "9           Everyone  Art & Design;Creativity  \n",
       "...              ...                      ...  \n",
       "10835       Everyone                 Business  \n",
       "10836       Everyone                Education  \n",
       "10837       Everyone                Education  \n",
       "10838       Everyone                  Medical  \n",
       "10839     Mature 17+        Books & Reference  \n",
       "\n",
       "[5854 rows x 9 columns]"
      ]
     },
     "execution_count": 46,
     "metadata": {},
     "output_type": "execute_result"
    }
   ],
   "source": [
    "inp1"
   ]
  },
  {
   "cell_type": "code",
   "execution_count": 47,
   "metadata": {},
   "outputs": [
    {
     "data": {
      "text/html": [
       "<div>\n",
       "<style scoped>\n",
       "    .dataframe tbody tr th:only-of-type {\n",
       "        vertical-align: middle;\n",
       "    }\n",
       "\n",
       "    .dataframe tbody tr th {\n",
       "        vertical-align: top;\n",
       "    }\n",
       "\n",
       "    .dataframe thead th {\n",
       "        text-align: right;\n",
       "    }\n",
       "</style>\n",
       "<table border=\"1\" class=\"dataframe\">\n",
       "  <thead>\n",
       "    <tr style=\"text-align: right;\">\n",
       "      <th></th>\n",
       "      <th>Rating</th>\n",
       "      <th>Reviews</th>\n",
       "      <th>Size</th>\n",
       "      <th>Installs</th>\n",
       "      <th>Price</th>\n",
       "      <th>Category_ART_AND_DESIGN</th>\n",
       "      <th>Category_AUTO_AND_VEHICLES</th>\n",
       "      <th>Category_BEAUTY</th>\n",
       "      <th>Category_BOOKS_AND_REFERENCE</th>\n",
       "      <th>Category_BUSINESS</th>\n",
       "      <th>...</th>\n",
       "      <th>Genres_Video Players &amp; Editors</th>\n",
       "      <th>Genres_Weather</th>\n",
       "      <th>Genres_Word</th>\n",
       "      <th>Content_Rating_Everyone</th>\n",
       "      <th>Content_Rating_Everyone 10+</th>\n",
       "      <th>Content_Rating_Mature 17+</th>\n",
       "      <th>Content_Rating_Teen</th>\n",
       "      <th>Content_Rating_Unrated</th>\n",
       "      <th>Type_Free</th>\n",
       "      <th>Type_Paid</th>\n",
       "    </tr>\n",
       "  </thead>\n",
       "  <tbody>\n",
       "    <tr>\n",
       "      <th>0</th>\n",
       "      <td>4.1</td>\n",
       "      <td>159</td>\n",
       "      <td>19.0</td>\n",
       "      <td>10000</td>\n",
       "      <td>0.0</td>\n",
       "      <td>1</td>\n",
       "      <td>0</td>\n",
       "      <td>0</td>\n",
       "      <td>0</td>\n",
       "      <td>0</td>\n",
       "      <td>...</td>\n",
       "      <td>0</td>\n",
       "      <td>0</td>\n",
       "      <td>0</td>\n",
       "      <td>1</td>\n",
       "      <td>0</td>\n",
       "      <td>0</td>\n",
       "      <td>0</td>\n",
       "      <td>0</td>\n",
       "      <td>1</td>\n",
       "      <td>0</td>\n",
       "    </tr>\n",
       "    <tr>\n",
       "      <th>4</th>\n",
       "      <td>4.3</td>\n",
       "      <td>967</td>\n",
       "      <td>28.0</td>\n",
       "      <td>100000</td>\n",
       "      <td>0.0</td>\n",
       "      <td>1</td>\n",
       "      <td>0</td>\n",
       "      <td>0</td>\n",
       "      <td>0</td>\n",
       "      <td>0</td>\n",
       "      <td>...</td>\n",
       "      <td>0</td>\n",
       "      <td>0</td>\n",
       "      <td>0</td>\n",
       "      <td>1</td>\n",
       "      <td>0</td>\n",
       "      <td>0</td>\n",
       "      <td>0</td>\n",
       "      <td>0</td>\n",
       "      <td>1</td>\n",
       "      <td>0</td>\n",
       "    </tr>\n",
       "    <tr>\n",
       "      <th>5</th>\n",
       "      <td>4.4</td>\n",
       "      <td>167</td>\n",
       "      <td>28.0</td>\n",
       "      <td>50000</td>\n",
       "      <td>0.0</td>\n",
       "      <td>1</td>\n",
       "      <td>0</td>\n",
       "      <td>0</td>\n",
       "      <td>0</td>\n",
       "      <td>0</td>\n",
       "      <td>...</td>\n",
       "      <td>0</td>\n",
       "      <td>0</td>\n",
       "      <td>0</td>\n",
       "      <td>1</td>\n",
       "      <td>0</td>\n",
       "      <td>0</td>\n",
       "      <td>0</td>\n",
       "      <td>0</td>\n",
       "      <td>1</td>\n",
       "      <td>0</td>\n",
       "    </tr>\n",
       "    <tr>\n",
       "      <th>6</th>\n",
       "      <td>3.8</td>\n",
       "      <td>178</td>\n",
       "      <td>19.0</td>\n",
       "      <td>50000</td>\n",
       "      <td>0.0</td>\n",
       "      <td>1</td>\n",
       "      <td>0</td>\n",
       "      <td>0</td>\n",
       "      <td>0</td>\n",
       "      <td>0</td>\n",
       "      <td>...</td>\n",
       "      <td>0</td>\n",
       "      <td>0</td>\n",
       "      <td>0</td>\n",
       "      <td>1</td>\n",
       "      <td>0</td>\n",
       "      <td>0</td>\n",
       "      <td>0</td>\n",
       "      <td>0</td>\n",
       "      <td>1</td>\n",
       "      <td>0</td>\n",
       "    </tr>\n",
       "    <tr>\n",
       "      <th>9</th>\n",
       "      <td>4.7</td>\n",
       "      <td>121</td>\n",
       "      <td>28.0</td>\n",
       "      <td>10000</td>\n",
       "      <td>0.0</td>\n",
       "      <td>1</td>\n",
       "      <td>0</td>\n",
       "      <td>0</td>\n",
       "      <td>0</td>\n",
       "      <td>0</td>\n",
       "      <td>...</td>\n",
       "      <td>0</td>\n",
       "      <td>0</td>\n",
       "      <td>0</td>\n",
       "      <td>1</td>\n",
       "      <td>0</td>\n",
       "      <td>0</td>\n",
       "      <td>0</td>\n",
       "      <td>0</td>\n",
       "      <td>1</td>\n",
       "      <td>0</td>\n",
       "    </tr>\n",
       "  </tbody>\n",
       "</table>\n",
       "<p>5 rows × 140 columns</p>\n",
       "</div>"
      ],
      "text/plain": [
       "   Rating  Reviews  Size  Installs  Price  Category_ART_AND_DESIGN  \\\n",
       "0     4.1      159  19.0     10000    0.0                        1   \n",
       "4     4.3      967  28.0    100000    0.0                        1   \n",
       "5     4.4      167  28.0     50000    0.0                        1   \n",
       "6     3.8      178  19.0     50000    0.0                        1   \n",
       "9     4.7      121  28.0     10000    0.0                        1   \n",
       "\n",
       "   Category_AUTO_AND_VEHICLES  Category_BEAUTY  Category_BOOKS_AND_REFERENCE  \\\n",
       "0                           0                0                             0   \n",
       "4                           0                0                             0   \n",
       "5                           0                0                             0   \n",
       "6                           0                0                             0   \n",
       "9                           0                0                             0   \n",
       "\n",
       "   Category_BUSINESS  ...  Genres_Video Players & Editors  Genres_Weather  \\\n",
       "0                  0  ...                               0               0   \n",
       "4                  0  ...                               0               0   \n",
       "5                  0  ...                               0               0   \n",
       "6                  0  ...                               0               0   \n",
       "9                  0  ...                               0               0   \n",
       "\n",
       "   Genres_Word  Content_Rating_Everyone  Content_Rating_Everyone 10+  \\\n",
       "0            0                        1                            0   \n",
       "4            0                        1                            0   \n",
       "5            0                        1                            0   \n",
       "6            0                        1                            0   \n",
       "9            0                        1                            0   \n",
       "\n",
       "   Content_Rating_Mature 17+  Content_Rating_Teen  Content_Rating_Unrated  \\\n",
       "0                          0                    0                       0   \n",
       "4                          0                    0                       0   \n",
       "5                          0                    0                       0   \n",
       "6                          0                    0                       0   \n",
       "9                          0                    0                       0   \n",
       "\n",
       "   Type_Free  Type_Paid  \n",
       "0          1          0  \n",
       "4          1          0  \n",
       "5          1          0  \n",
       "6          1          0  \n",
       "9          1          0  \n",
       "\n",
       "[5 rows x 140 columns]"
      ]
     },
     "execution_count": 47,
     "metadata": {},
     "output_type": "execute_result"
    }
   ],
   "source": [
    "inp2=pd.get_dummies(data=inp1,columns=['Category','Genres','Content_Rating','Type']) ### Creating Dummies\n",
    "inp2.head()"
   ]
  },
  {
   "cell_type": "code",
   "execution_count": 48,
   "metadata": {},
   "outputs": [
    {
     "data": {
      "text/plain": [
       "Rating                                      0\n",
       "Reviews                                     0\n",
       "Size                                        0\n",
       "Installs                                    0\n",
       "Price                                       0\n",
       "Category_ART_AND_DESIGN                     0\n",
       "Category_AUTO_AND_VEHICLES                  0\n",
       "Category_BEAUTY                             0\n",
       "Category_BOOKS_AND_REFERENCE                0\n",
       "Category_BUSINESS                           0\n",
       "Category_COMICS                             0\n",
       "Category_COMMUNICATION                      0\n",
       "Category_DATING                             0\n",
       "Category_EDUCATION                          0\n",
       "Category_ENTERTAINMENT                      0\n",
       "Category_EVENTS                             0\n",
       "Category_FAMILY                             0\n",
       "Category_FINANCE                            0\n",
       "Category_FOOD_AND_DRINK                     0\n",
       "Category_GAME                               0\n",
       "Category_HEALTH_AND_FITNESS                 0\n",
       "Category_HOUSE_AND_HOME                     0\n",
       "Category_LIBRARIES_AND_DEMO                 0\n",
       "Category_LIFESTYLE                          0\n",
       "Category_MAPS_AND_NAVIGATION                0\n",
       "Category_MEDICAL                            0\n",
       "Category_NEWS_AND_MAGAZINES                 0\n",
       "Category_PARENTING                          0\n",
       "Category_PERSONALIZATION                    0\n",
       "Category_PHOTOGRAPHY                        0\n",
       "Category_PRODUCTIVITY                       0\n",
       "Category_SHOPPING                           0\n",
       "Category_SOCIAL                             0\n",
       "Category_SPORTS                             0\n",
       "Category_TOOLS                              0\n",
       "Category_TRAVEL_AND_LOCAL                   0\n",
       "Category_VIDEO_PLAYERS                      0\n",
       "Category_WEATHER                            0\n",
       "Genres_Action                               0\n",
       "Genres_Action;Action & Adventure            0\n",
       "Genres_Adventure                            0\n",
       "Genres_Adventure;Action & Adventure         0\n",
       "Genres_Adventure;Brain Games                0\n",
       "Genres_Arcade                               0\n",
       "Genres_Arcade;Action & Adventure            0\n",
       "Genres_Art & Design                         0\n",
       "Genres_Art & Design;Action & Adventure      0\n",
       "Genres_Art & Design;Creativity              0\n",
       "Genres_Auto & Vehicles                      0\n",
       "Genres_Beauty                               0\n",
       "Genres_Board                                0\n",
       "Genres_Board;Action & Adventure             0\n",
       "Genres_Board;Brain Games                    0\n",
       "Genres_Board;Pretend Play                   0\n",
       "Genres_Books & Reference                    0\n",
       "Genres_Books & Reference;Creativity         0\n",
       "Genres_Books & Reference;Education          0\n",
       "Genres_Business                             0\n",
       "Genres_Card                                 0\n",
       "Genres_Card;Brain Games                     0\n",
       "Genres_Casino                               0\n",
       "Genres_Casual                               0\n",
       "Genres_Casual;Action & Adventure            0\n",
       "Genres_Casual;Brain Games                   0\n",
       "Genres_Casual;Education                     0\n",
       "Genres_Casual;Pretend Play                  0\n",
       "Genres_Comics                               0\n",
       "Genres_Comics;Creativity                    0\n",
       "Genres_Communication                        0\n",
       "Genres_Dating                               0\n",
       "Genres_Education                            0\n",
       "Genres_Education;Action & Adventure         0\n",
       "Genres_Education;Brain Games                0\n",
       "Genres_Education;Creativity                 0\n",
       "Genres_Education;Education                  0\n",
       "Genres_Education;Music & Video              0\n",
       "Genres_Education;Pretend Play               0\n",
       "Genres_Educational                          0\n",
       "Genres_Educational;Action & Adventure       0\n",
       "Genres_Educational;Brain Games              0\n",
       "Genres_Educational;Creativity               0\n",
       "Genres_Educational;Education                0\n",
       "Genres_Educational;Pretend Play             0\n",
       "Genres_Entertainment                        0\n",
       "Genres_Entertainment;Brain Games            0\n",
       "Genres_Entertainment;Music & Video          0\n",
       "Genres_Events                               0\n",
       "Genres_Finance                              0\n",
       "Genres_Food & Drink                         0\n",
       "Genres_Health & Fitness                     0\n",
       "Genres_Health & Fitness;Education           0\n",
       "Genres_House & Home                         0\n",
       "Genres_Libraries & Demo                     0\n",
       "Genres_Lifestyle                            0\n",
       "Genres_Lifestyle;Education                  0\n",
       "Genres_Maps & Navigation                    0\n",
       "Genres_Medical                              0\n",
       "Genres_Music                                0\n",
       "Genres_Music;Music & Video                  0\n",
       "Genres_News & Magazines                     0\n",
       "Genres_Parenting                            0\n",
       "Genres_Parenting;Education                  0\n",
       "Genres_Parenting;Music & Video              0\n",
       "Genres_Personalization                      0\n",
       "Genres_Photography                          0\n",
       "Genres_Productivity                         0\n",
       "Genres_Puzzle                               0\n",
       "Genres_Puzzle;Action & Adventure            0\n",
       "Genres_Puzzle;Brain Games                   0\n",
       "Genres_Puzzle;Education                     0\n",
       "Genres_Racing                               0\n",
       "Genres_Racing;Action & Adventure            0\n",
       "Genres_Role Playing                         0\n",
       "Genres_Role Playing;Action & Adventure      0\n",
       "Genres_Role Playing;Education               0\n",
       "Genres_Role Playing;Pretend Play            0\n",
       "Genres_Shopping                             0\n",
       "Genres_Simulation                           0\n",
       "Genres_Simulation;Education                 0\n",
       "Genres_Simulation;Pretend Play              0\n",
       "Genres_Social                               0\n",
       "Genres_Sports                               0\n",
       "Genres_Sports;Action & Adventure            0\n",
       "Genres_Strategy                             0\n",
       "Genres_Strategy;Action & Adventure          0\n",
       "Genres_Tools                                0\n",
       "Genres_Travel & Local                       0\n",
       "Genres_Travel & Local;Action & Adventure    0\n",
       "Genres_Trivia                               0\n",
       "Genres_Trivia;Education                     0\n",
       "Genres_Video Players & Editors              0\n",
       "Genres_Weather                              0\n",
       "Genres_Word                                 0\n",
       "Content_Rating_Everyone                     0\n",
       "Content_Rating_Everyone 10+                 0\n",
       "Content_Rating_Mature 17+                   0\n",
       "Content_Rating_Teen                         0\n",
       "Content_Rating_Unrated                      0\n",
       "Type_Free                                   0\n",
       "Type_Paid                                   0\n",
       "dtype: int64"
      ]
     },
     "execution_count": 48,
     "metadata": {},
     "output_type": "execute_result"
    }
   ],
   "source": [
    "inp2.isnull().sum()"
   ]
  },
  {
   "cell_type": "code",
   "execution_count": 49,
   "metadata": {},
   "outputs": [
    {
     "data": {
      "text/html": [
       "<div>\n",
       "<style scoped>\n",
       "    .dataframe tbody tr th:only-of-type {\n",
       "        vertical-align: middle;\n",
       "    }\n",
       "\n",
       "    .dataframe tbody tr th {\n",
       "        vertical-align: top;\n",
       "    }\n",
       "\n",
       "    .dataframe thead th {\n",
       "        text-align: right;\n",
       "    }\n",
       "</style>\n",
       "<table border=\"1\" class=\"dataframe\">\n",
       "  <thead>\n",
       "    <tr style=\"text-align: right;\">\n",
       "      <th></th>\n",
       "      <th>Rating</th>\n",
       "      <th>Reviews</th>\n",
       "      <th>Size</th>\n",
       "      <th>Installs</th>\n",
       "      <th>Price</th>\n",
       "      <th>Category_ART_AND_DESIGN</th>\n",
       "      <th>Category_AUTO_AND_VEHICLES</th>\n",
       "      <th>Category_BEAUTY</th>\n",
       "      <th>Category_BOOKS_AND_REFERENCE</th>\n",
       "      <th>Category_BUSINESS</th>\n",
       "      <th>...</th>\n",
       "      <th>Genres_Video Players &amp; Editors</th>\n",
       "      <th>Genres_Weather</th>\n",
       "      <th>Genres_Word</th>\n",
       "      <th>Content_Rating_Everyone</th>\n",
       "      <th>Content_Rating_Everyone 10+</th>\n",
       "      <th>Content_Rating_Mature 17+</th>\n",
       "      <th>Content_Rating_Teen</th>\n",
       "      <th>Content_Rating_Unrated</th>\n",
       "      <th>Type_Free</th>\n",
       "      <th>Type_Paid</th>\n",
       "    </tr>\n",
       "  </thead>\n",
       "  <tbody>\n",
       "    <tr>\n",
       "      <th>0</th>\n",
       "      <td>4.1</td>\n",
       "      <td>159</td>\n",
       "      <td>19.0</td>\n",
       "      <td>10000</td>\n",
       "      <td>0.0</td>\n",
       "      <td>1</td>\n",
       "      <td>0</td>\n",
       "      <td>0</td>\n",
       "      <td>0</td>\n",
       "      <td>0</td>\n",
       "      <td>...</td>\n",
       "      <td>0</td>\n",
       "      <td>0</td>\n",
       "      <td>0</td>\n",
       "      <td>1</td>\n",
       "      <td>0</td>\n",
       "      <td>0</td>\n",
       "      <td>0</td>\n",
       "      <td>0</td>\n",
       "      <td>1</td>\n",
       "      <td>0</td>\n",
       "    </tr>\n",
       "    <tr>\n",
       "      <th>1</th>\n",
       "      <td>4.3</td>\n",
       "      <td>967</td>\n",
       "      <td>28.0</td>\n",
       "      <td>100000</td>\n",
       "      <td>0.0</td>\n",
       "      <td>1</td>\n",
       "      <td>0</td>\n",
       "      <td>0</td>\n",
       "      <td>0</td>\n",
       "      <td>0</td>\n",
       "      <td>...</td>\n",
       "      <td>0</td>\n",
       "      <td>0</td>\n",
       "      <td>0</td>\n",
       "      <td>1</td>\n",
       "      <td>0</td>\n",
       "      <td>0</td>\n",
       "      <td>0</td>\n",
       "      <td>0</td>\n",
       "      <td>1</td>\n",
       "      <td>0</td>\n",
       "    </tr>\n",
       "    <tr>\n",
       "      <th>2</th>\n",
       "      <td>4.4</td>\n",
       "      <td>167</td>\n",
       "      <td>28.0</td>\n",
       "      <td>50000</td>\n",
       "      <td>0.0</td>\n",
       "      <td>1</td>\n",
       "      <td>0</td>\n",
       "      <td>0</td>\n",
       "      <td>0</td>\n",
       "      <td>0</td>\n",
       "      <td>...</td>\n",
       "      <td>0</td>\n",
       "      <td>0</td>\n",
       "      <td>0</td>\n",
       "      <td>1</td>\n",
       "      <td>0</td>\n",
       "      <td>0</td>\n",
       "      <td>0</td>\n",
       "      <td>0</td>\n",
       "      <td>1</td>\n",
       "      <td>0</td>\n",
       "    </tr>\n",
       "    <tr>\n",
       "      <th>3</th>\n",
       "      <td>3.8</td>\n",
       "      <td>178</td>\n",
       "      <td>19.0</td>\n",
       "      <td>50000</td>\n",
       "      <td>0.0</td>\n",
       "      <td>1</td>\n",
       "      <td>0</td>\n",
       "      <td>0</td>\n",
       "      <td>0</td>\n",
       "      <td>0</td>\n",
       "      <td>...</td>\n",
       "      <td>0</td>\n",
       "      <td>0</td>\n",
       "      <td>0</td>\n",
       "      <td>1</td>\n",
       "      <td>0</td>\n",
       "      <td>0</td>\n",
       "      <td>0</td>\n",
       "      <td>0</td>\n",
       "      <td>1</td>\n",
       "      <td>0</td>\n",
       "    </tr>\n",
       "    <tr>\n",
       "      <th>4</th>\n",
       "      <td>4.7</td>\n",
       "      <td>121</td>\n",
       "      <td>28.0</td>\n",
       "      <td>10000</td>\n",
       "      <td>0.0</td>\n",
       "      <td>1</td>\n",
       "      <td>0</td>\n",
       "      <td>0</td>\n",
       "      <td>0</td>\n",
       "      <td>0</td>\n",
       "      <td>...</td>\n",
       "      <td>0</td>\n",
       "      <td>0</td>\n",
       "      <td>0</td>\n",
       "      <td>1</td>\n",
       "      <td>0</td>\n",
       "      <td>0</td>\n",
       "      <td>0</td>\n",
       "      <td>0</td>\n",
       "      <td>1</td>\n",
       "      <td>0</td>\n",
       "    </tr>\n",
       "    <tr>\n",
       "      <th>...</th>\n",
       "      <td>...</td>\n",
       "      <td>...</td>\n",
       "      <td>...</td>\n",
       "      <td>...</td>\n",
       "      <td>...</td>\n",
       "      <td>...</td>\n",
       "      <td>...</td>\n",
       "      <td>...</td>\n",
       "      <td>...</td>\n",
       "      <td>...</td>\n",
       "      <td>...</td>\n",
       "      <td>...</td>\n",
       "      <td>...</td>\n",
       "      <td>...</td>\n",
       "      <td>...</td>\n",
       "      <td>...</td>\n",
       "      <td>...</td>\n",
       "      <td>...</td>\n",
       "      <td>...</td>\n",
       "      <td>...</td>\n",
       "      <td>...</td>\n",
       "    </tr>\n",
       "    <tr>\n",
       "      <th>26935</th>\n",
       "      <td>3.8</td>\n",
       "      <td>1195</td>\n",
       "      <td>582.0</td>\n",
       "      <td>100000</td>\n",
       "      <td>0.0</td>\n",
       "      <td>0</td>\n",
       "      <td>0</td>\n",
       "      <td>0</td>\n",
       "      <td>0</td>\n",
       "      <td>0</td>\n",
       "      <td>...</td>\n",
       "      <td>0</td>\n",
       "      <td>1</td>\n",
       "      <td>0</td>\n",
       "      <td>1</td>\n",
       "      <td>0</td>\n",
       "      <td>0</td>\n",
       "      <td>0</td>\n",
       "      <td>0</td>\n",
       "      <td>1</td>\n",
       "      <td>0</td>\n",
       "    </tr>\n",
       "    <tr>\n",
       "      <th>26936</th>\n",
       "      <td>4.8</td>\n",
       "      <td>44</td>\n",
       "      <td>619.0</td>\n",
       "      <td>1000</td>\n",
       "      <td>0.0</td>\n",
       "      <td>0</td>\n",
       "      <td>0</td>\n",
       "      <td>0</td>\n",
       "      <td>1</td>\n",
       "      <td>0</td>\n",
       "      <td>...</td>\n",
       "      <td>0</td>\n",
       "      <td>0</td>\n",
       "      <td>0</td>\n",
       "      <td>1</td>\n",
       "      <td>0</td>\n",
       "      <td>0</td>\n",
       "      <td>0</td>\n",
       "      <td>0</td>\n",
       "      <td>1</td>\n",
       "      <td>0</td>\n",
       "    </tr>\n",
       "    <tr>\n",
       "      <th>26937</th>\n",
       "      <td>4.0</td>\n",
       "      <td>7</td>\n",
       "      <td>28.0</td>\n",
       "      <td>500</td>\n",
       "      <td>0.0</td>\n",
       "      <td>0</td>\n",
       "      <td>0</td>\n",
       "      <td>0</td>\n",
       "      <td>0</td>\n",
       "      <td>0</td>\n",
       "      <td>...</td>\n",
       "      <td>0</td>\n",
       "      <td>0</td>\n",
       "      <td>0</td>\n",
       "      <td>1</td>\n",
       "      <td>0</td>\n",
       "      <td>0</td>\n",
       "      <td>0</td>\n",
       "      <td>0</td>\n",
       "      <td>1</td>\n",
       "      <td>0</td>\n",
       "    </tr>\n",
       "    <tr>\n",
       "      <th>26938</th>\n",
       "      <td>4.5</td>\n",
       "      <td>38</td>\n",
       "      <td>53.0</td>\n",
       "      <td>5000</td>\n",
       "      <td>0.0</td>\n",
       "      <td>0</td>\n",
       "      <td>0</td>\n",
       "      <td>0</td>\n",
       "      <td>0</td>\n",
       "      <td>0</td>\n",
       "      <td>...</td>\n",
       "      <td>0</td>\n",
       "      <td>0</td>\n",
       "      <td>0</td>\n",
       "      <td>1</td>\n",
       "      <td>0</td>\n",
       "      <td>0</td>\n",
       "      <td>0</td>\n",
       "      <td>0</td>\n",
       "      <td>1</td>\n",
       "      <td>0</td>\n",
       "    </tr>\n",
       "    <tr>\n",
       "      <th>26939</th>\n",
       "      <td>4.5</td>\n",
       "      <td>114</td>\n",
       "      <td>28.0</td>\n",
       "      <td>1000</td>\n",
       "      <td>0.0</td>\n",
       "      <td>0</td>\n",
       "      <td>0</td>\n",
       "      <td>0</td>\n",
       "      <td>1</td>\n",
       "      <td>0</td>\n",
       "      <td>...</td>\n",
       "      <td>0</td>\n",
       "      <td>0</td>\n",
       "      <td>0</td>\n",
       "      <td>0</td>\n",
       "      <td>0</td>\n",
       "      <td>1</td>\n",
       "      <td>0</td>\n",
       "      <td>0</td>\n",
       "      <td>1</td>\n",
       "      <td>0</td>\n",
       "    </tr>\n",
       "  </tbody>\n",
       "</table>\n",
       "<p>26940 rows × 140 columns</p>\n",
       "</div>"
      ],
      "text/plain": [
       "       Rating  Reviews   Size  Installs  Price  Category_ART_AND_DESIGN  \\\n",
       "0         4.1      159   19.0     10000    0.0                        1   \n",
       "1         4.3      967   28.0    100000    0.0                        1   \n",
       "2         4.4      167   28.0     50000    0.0                        1   \n",
       "3         3.8      178   19.0     50000    0.0                        1   \n",
       "4         4.7      121   28.0     10000    0.0                        1   \n",
       "...       ...      ...    ...       ...    ...                      ...   \n",
       "26935     3.8     1195  582.0    100000    0.0                        0   \n",
       "26936     4.8       44  619.0      1000    0.0                        0   \n",
       "26937     4.0        7   28.0       500    0.0                        0   \n",
       "26938     4.5       38   53.0      5000    0.0                        0   \n",
       "26939     4.5      114   28.0      1000    0.0                        0   \n",
       "\n",
       "       Category_AUTO_AND_VEHICLES  Category_BEAUTY  \\\n",
       "0                               0                0   \n",
       "1                               0                0   \n",
       "2                               0                0   \n",
       "3                               0                0   \n",
       "4                               0                0   \n",
       "...                           ...              ...   \n",
       "26935                           0                0   \n",
       "26936                           0                0   \n",
       "26937                           0                0   \n",
       "26938                           0                0   \n",
       "26939                           0                0   \n",
       "\n",
       "       Category_BOOKS_AND_REFERENCE  Category_BUSINESS  ...  \\\n",
       "0                                 0                  0  ...   \n",
       "1                                 0                  0  ...   \n",
       "2                                 0                  0  ...   \n",
       "3                                 0                  0  ...   \n",
       "4                                 0                  0  ...   \n",
       "...                             ...                ...  ...   \n",
       "26935                             0                  0  ...   \n",
       "26936                             1                  0  ...   \n",
       "26937                             0                  0  ...   \n",
       "26938                             0                  0  ...   \n",
       "26939                             1                  0  ...   \n",
       "\n",
       "       Genres_Video Players & Editors  Genres_Weather  Genres_Word  \\\n",
       "0                                   0               0            0   \n",
       "1                                   0               0            0   \n",
       "2                                   0               0            0   \n",
       "3                                   0               0            0   \n",
       "4                                   0               0            0   \n",
       "...                               ...             ...          ...   \n",
       "26935                               0               1            0   \n",
       "26936                               0               0            0   \n",
       "26937                               0               0            0   \n",
       "26938                               0               0            0   \n",
       "26939                               0               0            0   \n",
       "\n",
       "       Content_Rating_Everyone  Content_Rating_Everyone 10+  \\\n",
       "0                            1                            0   \n",
       "1                            1                            0   \n",
       "2                            1                            0   \n",
       "3                            1                            0   \n",
       "4                            1                            0   \n",
       "...                        ...                          ...   \n",
       "26935                        1                            0   \n",
       "26936                        1                            0   \n",
       "26937                        1                            0   \n",
       "26938                        1                            0   \n",
       "26939                        0                            0   \n",
       "\n",
       "       Content_Rating_Mature 17+  Content_Rating_Teen  Content_Rating_Unrated  \\\n",
       "0                              0                    0                       0   \n",
       "1                              0                    0                       0   \n",
       "2                              0                    0                       0   \n",
       "3                              0                    0                       0   \n",
       "4                              0                    0                       0   \n",
       "...                          ...                  ...                     ...   \n",
       "26935                          0                    0                       0   \n",
       "26936                          0                    0                       0   \n",
       "26937                          0                    0                       0   \n",
       "26938                          0                    0                       0   \n",
       "26939                          1                    0                       0   \n",
       "\n",
       "       Type_Free  Type_Paid  \n",
       "0              1          0  \n",
       "1              1          0  \n",
       "2              1          0  \n",
       "3              1          0  \n",
       "4              1          0  \n",
       "...          ...        ...  \n",
       "26935          1          0  \n",
       "26936          1          0  \n",
       "26937          1          0  \n",
       "26938          1          0  \n",
       "26939          1          0  \n",
       "\n",
       "[26940 rows x 140 columns]"
      ]
     },
     "execution_count": 49,
     "metadata": {},
     "output_type": "execute_result"
    }
   ],
   "source": [
    "inp1=inp1.merge(inp2,how='inner')\n",
    "inp1.head()\n",
    "inp1.columns\n",
    "inp1.drop(['Category','Genres','Content_Rating','Type'],axis=1,inplace=True) ### Dropping the original variables\n",
    "inp1\n",
    "#inp1['Type'].info"
   ]
  },
  {
   "cell_type": "code",
   "execution_count": 50,
   "metadata": {},
   "outputs": [
    {
     "data": {
      "text/plain": [
       "(26940, 140)"
      ]
     },
     "execution_count": 50,
     "metadata": {},
     "output_type": "execute_result"
    }
   ],
   "source": [
    "inp1.shape"
   ]
  },
  {
   "cell_type": "code",
   "execution_count": 51,
   "metadata": {},
   "outputs": [
    {
     "data": {
      "text/plain": [
       "Rating                                      float64\n",
       "Reviews                                       int32\n",
       "Size                                        float64\n",
       "Installs                                      int64\n",
       "Price                                       float64\n",
       "Category_ART_AND_DESIGN                       uint8\n",
       "Category_AUTO_AND_VEHICLES                    uint8\n",
       "Category_BEAUTY                               uint8\n",
       "Category_BOOKS_AND_REFERENCE                  uint8\n",
       "Category_BUSINESS                             uint8\n",
       "Category_COMICS                               uint8\n",
       "Category_COMMUNICATION                        uint8\n",
       "Category_DATING                               uint8\n",
       "Category_EDUCATION                            uint8\n",
       "Category_ENTERTAINMENT                        uint8\n",
       "Category_EVENTS                               uint8\n",
       "Category_FAMILY                               uint8\n",
       "Category_FINANCE                              uint8\n",
       "Category_FOOD_AND_DRINK                       uint8\n",
       "Category_GAME                                 uint8\n",
       "Category_HEALTH_AND_FITNESS                   uint8\n",
       "Category_HOUSE_AND_HOME                       uint8\n",
       "Category_LIBRARIES_AND_DEMO                   uint8\n",
       "Category_LIFESTYLE                            uint8\n",
       "Category_MAPS_AND_NAVIGATION                  uint8\n",
       "Category_MEDICAL                              uint8\n",
       "Category_NEWS_AND_MAGAZINES                   uint8\n",
       "Category_PARENTING                            uint8\n",
       "Category_PERSONALIZATION                      uint8\n",
       "Category_PHOTOGRAPHY                          uint8\n",
       "Category_PRODUCTIVITY                         uint8\n",
       "Category_SHOPPING                             uint8\n",
       "Category_SOCIAL                               uint8\n",
       "Category_SPORTS                               uint8\n",
       "Category_TOOLS                                uint8\n",
       "Category_TRAVEL_AND_LOCAL                     uint8\n",
       "Category_VIDEO_PLAYERS                        uint8\n",
       "Category_WEATHER                              uint8\n",
       "Genres_Action                                 uint8\n",
       "Genres_Action;Action & Adventure              uint8\n",
       "Genres_Adventure                              uint8\n",
       "Genres_Adventure;Action & Adventure           uint8\n",
       "Genres_Adventure;Brain Games                  uint8\n",
       "Genres_Arcade                                 uint8\n",
       "Genres_Arcade;Action & Adventure              uint8\n",
       "Genres_Art & Design                           uint8\n",
       "Genres_Art & Design;Action & Adventure        uint8\n",
       "Genres_Art & Design;Creativity                uint8\n",
       "Genres_Auto & Vehicles                        uint8\n",
       "Genres_Beauty                                 uint8\n",
       "Genres_Board                                  uint8\n",
       "Genres_Board;Action & Adventure               uint8\n",
       "Genres_Board;Brain Games                      uint8\n",
       "Genres_Board;Pretend Play                     uint8\n",
       "Genres_Books & Reference                      uint8\n",
       "Genres_Books & Reference;Creativity           uint8\n",
       "Genres_Books & Reference;Education            uint8\n",
       "Genres_Business                               uint8\n",
       "Genres_Card                                   uint8\n",
       "Genres_Card;Brain Games                       uint8\n",
       "Genres_Casino                                 uint8\n",
       "Genres_Casual                                 uint8\n",
       "Genres_Casual;Action & Adventure              uint8\n",
       "Genres_Casual;Brain Games                     uint8\n",
       "Genres_Casual;Education                       uint8\n",
       "Genres_Casual;Pretend Play                    uint8\n",
       "Genres_Comics                                 uint8\n",
       "Genres_Comics;Creativity                      uint8\n",
       "Genres_Communication                          uint8\n",
       "Genres_Dating                                 uint8\n",
       "Genres_Education                              uint8\n",
       "Genres_Education;Action & Adventure           uint8\n",
       "Genres_Education;Brain Games                  uint8\n",
       "Genres_Education;Creativity                   uint8\n",
       "Genres_Education;Education                    uint8\n",
       "Genres_Education;Music & Video                uint8\n",
       "Genres_Education;Pretend Play                 uint8\n",
       "Genres_Educational                            uint8\n",
       "Genres_Educational;Action & Adventure         uint8\n",
       "Genres_Educational;Brain Games                uint8\n",
       "Genres_Educational;Creativity                 uint8\n",
       "Genres_Educational;Education                  uint8\n",
       "Genres_Educational;Pretend Play               uint8\n",
       "Genres_Entertainment                          uint8\n",
       "Genres_Entertainment;Brain Games              uint8\n",
       "Genres_Entertainment;Music & Video            uint8\n",
       "Genres_Events                                 uint8\n",
       "Genres_Finance                                uint8\n",
       "Genres_Food & Drink                           uint8\n",
       "Genres_Health & Fitness                       uint8\n",
       "Genres_Health & Fitness;Education             uint8\n",
       "Genres_House & Home                           uint8\n",
       "Genres_Libraries & Demo                       uint8\n",
       "Genres_Lifestyle                              uint8\n",
       "Genres_Lifestyle;Education                    uint8\n",
       "Genres_Maps & Navigation                      uint8\n",
       "Genres_Medical                                uint8\n",
       "Genres_Music                                  uint8\n",
       "Genres_Music;Music & Video                    uint8\n",
       "Genres_News & Magazines                       uint8\n",
       "Genres_Parenting                              uint8\n",
       "Genres_Parenting;Education                    uint8\n",
       "Genres_Parenting;Music & Video                uint8\n",
       "Genres_Personalization                        uint8\n",
       "Genres_Photography                            uint8\n",
       "Genres_Productivity                           uint8\n",
       "Genres_Puzzle                                 uint8\n",
       "Genres_Puzzle;Action & Adventure              uint8\n",
       "Genres_Puzzle;Brain Games                     uint8\n",
       "Genres_Puzzle;Education                       uint8\n",
       "Genres_Racing                                 uint8\n",
       "Genres_Racing;Action & Adventure              uint8\n",
       "Genres_Role Playing                           uint8\n",
       "Genres_Role Playing;Action & Adventure        uint8\n",
       "Genres_Role Playing;Education                 uint8\n",
       "Genres_Role Playing;Pretend Play              uint8\n",
       "Genres_Shopping                               uint8\n",
       "Genres_Simulation                             uint8\n",
       "Genres_Simulation;Education                   uint8\n",
       "Genres_Simulation;Pretend Play                uint8\n",
       "Genres_Social                                 uint8\n",
       "Genres_Sports                                 uint8\n",
       "Genres_Sports;Action & Adventure              uint8\n",
       "Genres_Strategy                               uint8\n",
       "Genres_Strategy;Action & Adventure            uint8\n",
       "Genres_Tools                                  uint8\n",
       "Genres_Travel & Local                         uint8\n",
       "Genres_Travel & Local;Action & Adventure      uint8\n",
       "Genres_Trivia                                 uint8\n",
       "Genres_Trivia;Education                       uint8\n",
       "Genres_Video Players & Editors                uint8\n",
       "Genres_Weather                                uint8\n",
       "Genres_Word                                   uint8\n",
       "Content_Rating_Everyone                       uint8\n",
       "Content_Rating_Everyone 10+                   uint8\n",
       "Content_Rating_Mature 17+                     uint8\n",
       "Content_Rating_Teen                           uint8\n",
       "Content_Rating_Unrated                        uint8\n",
       "Type_Free                                     uint8\n",
       "Type_Paid                                     uint8\n",
       "dtype: object"
      ]
     },
     "execution_count": 51,
     "metadata": {},
     "output_type": "execute_result"
    }
   ],
   "source": [
    "#inp1['Type']=inp1['Type'].astype(str)\n",
    "#inp1['Type']=inp1['Type'].str.replace('Free','').astype(float)\n",
    "inp1.dtypes"
   ]
  },
  {
   "cell_type": "code",
   "execution_count": 52,
   "metadata": {},
   "outputs": [
    {
     "data": {
      "text/plain": [
       "Index(['Rating', 'Reviews', 'Size', 'Installs', 'Price',\n",
       "       'Category_ART_AND_DESIGN', 'Category_AUTO_AND_VEHICLES',\n",
       "       'Category_BEAUTY', 'Category_BOOKS_AND_REFERENCE', 'Category_BUSINESS',\n",
       "       ...\n",
       "       'Genres_Video Players & Editors', 'Genres_Weather', 'Genres_Word',\n",
       "       'Content_Rating_Everyone', 'Content_Rating_Everyone 10+',\n",
       "       'Content_Rating_Mature 17+', 'Content_Rating_Teen',\n",
       "       'Content_Rating_Unrated', 'Type_Free', 'Type_Paid'],\n",
       "      dtype='object', length=140)"
      ]
     },
     "execution_count": 52,
     "metadata": {},
     "output_type": "execute_result"
    }
   ],
   "source": [
    "inp1.columns"
   ]
  },
  {
   "cell_type": "code",
   "execution_count": 53,
   "metadata": {},
   "outputs": [
    {
     "data": {
      "text/plain": [
       "<matplotlib.axes._subplots.AxesSubplot at 0x25d1fc64448>"
      ]
     },
     "execution_count": 53,
     "metadata": {},
     "output_type": "execute_result"
    },
    {
     "data": {
      "image/png": "[encoded data removed]",
      "text/plain": [
       "<Figure size 1008x576 with 2 Axes>"
      ]
     },
     "metadata": {},
     "output_type": "display_data"
    }
   ],
   "source": [
    "sns.set(rc={'figure.figsize':(14,8)},font_scale=1.3)\n",
    "sns.heatmap(inp1.corr(),annot=True,cmap='viridis')  ### gives correlation value"
   ]
  },
  {
   "cell_type": "code",
   "execution_count": 54,
   "metadata": {},
   "outputs": [
    {
     "data": {
      "image/png": "[encoded data removed]",
      "text/plain": [
       "<Figure size 1008x576 with 1 Axes>"
      ]
     },
     "metadata": {},
     "output_type": "display_data"
    }
   ],
   "source": [
    "### SCATTER PLOT BETWEEN Rating and Price\n",
    "style.use('ggplot')\n",
    "\n",
    "##Rating vs Price\n",
    "### scatter plots are part of matplotlib\n",
    "plt.scatter(inp1['Rating'],inp1['Price'])\n",
    "\n",
    "##set title of plot\n",
    "plt.title('Rating vs Price')\n",
    "\n",
    "##set label for x axis\n",
    "plt.xlabel('Rating')\n",
    "\n",
    "##set label for y axis\n",
    "plt.ylabel('Price')\n",
    "\n",
    "plt.show()"
   ]
  },
  {
   "cell_type": "code",
   "execution_count": 55,
   "metadata": {},
   "outputs": [
    {
     "data": {
      "text/html": [
       "<div>\n",
       "<style scoped>\n",
       "    .dataframe tbody tr th:only-of-type {\n",
       "        vertical-align: middle;\n",
       "    }\n",
       "\n",
       "    .dataframe tbody tr th {\n",
       "        vertical-align: top;\n",
       "    }\n",
       "\n",
       "    .dataframe thead th {\n",
       "        text-align: right;\n",
       "    }\n",
       "</style>\n",
       "<table border=\"1\" class=\"dataframe\">\n",
       "  <thead>\n",
       "    <tr style=\"text-align: right;\">\n",
       "      <th></th>\n",
       "      <th>Rating</th>\n",
       "      <th>Reviews</th>\n",
       "      <th>Size</th>\n",
       "      <th>Installs</th>\n",
       "      <th>Price</th>\n",
       "      <th>Category_ART_AND_DESIGN</th>\n",
       "      <th>Category_AUTO_AND_VEHICLES</th>\n",
       "      <th>Category_BEAUTY</th>\n",
       "      <th>Category_BOOKS_AND_REFERENCE</th>\n",
       "      <th>Category_BUSINESS</th>\n",
       "      <th>...</th>\n",
       "      <th>Genres_Video Players &amp; Editors</th>\n",
       "      <th>Genres_Weather</th>\n",
       "      <th>Genres_Word</th>\n",
       "      <th>Content_Rating_Everyone</th>\n",
       "      <th>Content_Rating_Everyone 10+</th>\n",
       "      <th>Content_Rating_Mature 17+</th>\n",
       "      <th>Content_Rating_Teen</th>\n",
       "      <th>Content_Rating_Unrated</th>\n",
       "      <th>Type_Free</th>\n",
       "      <th>Type_Paid</th>\n",
       "    </tr>\n",
       "  </thead>\n",
       "  <tbody>\n",
       "    <tr>\n",
       "      <th>0</th>\n",
       "      <td>4.1</td>\n",
       "      <td>159</td>\n",
       "      <td>19.0</td>\n",
       "      <td>10000</td>\n",
       "      <td>0.0</td>\n",
       "      <td>1</td>\n",
       "      <td>0</td>\n",
       "      <td>0</td>\n",
       "      <td>0</td>\n",
       "      <td>0</td>\n",
       "      <td>...</td>\n",
       "      <td>0</td>\n",
       "      <td>0</td>\n",
       "      <td>0</td>\n",
       "      <td>1</td>\n",
       "      <td>0</td>\n",
       "      <td>0</td>\n",
       "      <td>0</td>\n",
       "      <td>0</td>\n",
       "      <td>1</td>\n",
       "      <td>0</td>\n",
       "    </tr>\n",
       "    <tr>\n",
       "      <th>1</th>\n",
       "      <td>4.3</td>\n",
       "      <td>967</td>\n",
       "      <td>28.0</td>\n",
       "      <td>100000</td>\n",
       "      <td>0.0</td>\n",
       "      <td>1</td>\n",
       "      <td>0</td>\n",
       "      <td>0</td>\n",
       "      <td>0</td>\n",
       "      <td>0</td>\n",
       "      <td>...</td>\n",
       "      <td>0</td>\n",
       "      <td>0</td>\n",
       "      <td>0</td>\n",
       "      <td>1</td>\n",
       "      <td>0</td>\n",
       "      <td>0</td>\n",
       "      <td>0</td>\n",
       "      <td>0</td>\n",
       "      <td>1</td>\n",
       "      <td>0</td>\n",
       "    </tr>\n",
       "    <tr>\n",
       "      <th>2</th>\n",
       "      <td>4.4</td>\n",
       "      <td>167</td>\n",
       "      <td>28.0</td>\n",
       "      <td>50000</td>\n",
       "      <td>0.0</td>\n",
       "      <td>1</td>\n",
       "      <td>0</td>\n",
       "      <td>0</td>\n",
       "      <td>0</td>\n",
       "      <td>0</td>\n",
       "      <td>...</td>\n",
       "      <td>0</td>\n",
       "      <td>0</td>\n",
       "      <td>0</td>\n",
       "      <td>1</td>\n",
       "      <td>0</td>\n",
       "      <td>0</td>\n",
       "      <td>0</td>\n",
       "      <td>0</td>\n",
       "      <td>1</td>\n",
       "      <td>0</td>\n",
       "    </tr>\n",
       "    <tr>\n",
       "      <th>3</th>\n",
       "      <td>3.8</td>\n",
       "      <td>178</td>\n",
       "      <td>19.0</td>\n",
       "      <td>50000</td>\n",
       "      <td>0.0</td>\n",
       "      <td>1</td>\n",
       "      <td>0</td>\n",
       "      <td>0</td>\n",
       "      <td>0</td>\n",
       "      <td>0</td>\n",
       "      <td>...</td>\n",
       "      <td>0</td>\n",
       "      <td>0</td>\n",
       "      <td>0</td>\n",
       "      <td>1</td>\n",
       "      <td>0</td>\n",
       "      <td>0</td>\n",
       "      <td>0</td>\n",
       "      <td>0</td>\n",
       "      <td>1</td>\n",
       "      <td>0</td>\n",
       "    </tr>\n",
       "    <tr>\n",
       "      <th>4</th>\n",
       "      <td>4.7</td>\n",
       "      <td>121</td>\n",
       "      <td>28.0</td>\n",
       "      <td>10000</td>\n",
       "      <td>0.0</td>\n",
       "      <td>1</td>\n",
       "      <td>0</td>\n",
       "      <td>0</td>\n",
       "      <td>0</td>\n",
       "      <td>0</td>\n",
       "      <td>...</td>\n",
       "      <td>0</td>\n",
       "      <td>0</td>\n",
       "      <td>0</td>\n",
       "      <td>1</td>\n",
       "      <td>0</td>\n",
       "      <td>0</td>\n",
       "      <td>0</td>\n",
       "      <td>0</td>\n",
       "      <td>1</td>\n",
       "      <td>0</td>\n",
       "    </tr>\n",
       "  </tbody>\n",
       "</table>\n",
       "<p>5 rows × 140 columns</p>\n",
       "</div>"
      ],
      "text/plain": [
       "   Rating  Reviews  Size  Installs  Price  Category_ART_AND_DESIGN  \\\n",
       "0     4.1      159  19.0     10000    0.0                        1   \n",
       "1     4.3      967  28.0    100000    0.0                        1   \n",
       "2     4.4      167  28.0     50000    0.0                        1   \n",
       "3     3.8      178  19.0     50000    0.0                        1   \n",
       "4     4.7      121  28.0     10000    0.0                        1   \n",
       "\n",
       "   Category_AUTO_AND_VEHICLES  Category_BEAUTY  Category_BOOKS_AND_REFERENCE  \\\n",
       "0                           0                0                             0   \n",
       "1                           0                0                             0   \n",
       "2                           0                0                             0   \n",
       "3                           0                0                             0   \n",
       "4                           0                0                             0   \n",
       "\n",
       "   Category_BUSINESS  ...  Genres_Video Players & Editors  Genres_Weather  \\\n",
       "0                  0  ...                               0               0   \n",
       "1                  0  ...                               0               0   \n",
       "2                  0  ...                               0               0   \n",
       "3                  0  ...                               0               0   \n",
       "4                  0  ...                               0               0   \n",
       "\n",
       "   Genres_Word  Content_Rating_Everyone  Content_Rating_Everyone 10+  \\\n",
       "0            0                        1                            0   \n",
       "1            0                        1                            0   \n",
       "2            0                        1                            0   \n",
       "3            0                        1                            0   \n",
       "4            0                        1                            0   \n",
       "\n",
       "   Content_Rating_Mature 17+  Content_Rating_Teen  Content_Rating_Unrated  \\\n",
       "0                          0                    0                       0   \n",
       "1                          0                    0                       0   \n",
       "2                          0                    0                       0   \n",
       "3                          0                    0                       0   \n",
       "4                          0                    0                       0   \n",
       "\n",
       "   Type_Free  Type_Paid  \n",
       "0          1          0  \n",
       "1          1          0  \n",
       "2          1          0  \n",
       "3          1          0  \n",
       "4          1          0  \n",
       "\n",
       "[5 rows x 140 columns]"
      ]
     },
     "execution_count": 55,
     "metadata": {},
     "output_type": "execute_result"
    }
   ],
   "source": [
    "inp1 = inp1.iloc[:,0:]\n",
    "inp1.head()\n"
   ]
  },
  {
   "cell_type": "code",
   "execution_count": 56,
   "metadata": {},
   "outputs": [
    {
     "name": "stdout",
     "output_type": "stream",
     "text": [
      "Index(['Rating', 'Reviews', 'Size', 'Installs', 'Price',\n",
      "       'Category_ART_AND_DESIGN', 'Category_AUTO_AND_VEHICLES',\n",
      "       'Category_BEAUTY', 'Category_BOOKS_AND_REFERENCE', 'Category_BUSINESS',\n",
      "       ...\n",
      "       'Genres_Video Players & Editors', 'Genres_Weather', 'Genres_Word',\n",
      "       'Content_Rating_Everyone', 'Content_Rating_Everyone 10+',\n",
      "       'Content_Rating_Mature 17+', 'Content_Rating_Teen',\n",
      "       'Content_Rating_Unrated', 'Type_Free', 'Type_Paid'],\n",
      "      dtype='object', length=140)\n"
     ]
    }
   ],
   "source": [
    "print(inp1.columns)"
   ]
  },
  {
   "cell_type": "code",
   "execution_count": 57,
   "metadata": {},
   "outputs": [],
   "source": [
    "### DEFINE THE INDEPENDENT VARIABLES\n",
    "### y = mx + b\n",
    "#X = inp1[[]]\n",
    "X = inp1.iloc[:,0:139]  \n",
    "\n",
    "### DEFINE THE DEPENDENT VARIABLE\n",
    "y = inp1['Rating']\n",
    "\n",
    "#x is set of independent variables (I have used all independent variables)\n",
    "#y is the dependent variable"
   ]
  },
  {
   "cell_type": "code",
   "execution_count": 58,
   "metadata": {},
   "outputs": [
    {
     "data": {
      "text/plain": [
       "pandas.core.frame.DataFrame"
      ]
     },
     "execution_count": 58,
     "metadata": {},
     "output_type": "execute_result"
    }
   ],
   "source": [
    "type(X)"
   ]
  },
  {
   "cell_type": "code",
   "execution_count": 59,
   "metadata": {},
   "outputs": [],
   "source": [
    "from statsmodels.stats.outliers_influence import variance_inflation_factor"
   ]
  },
  {
   "cell_type": "code",
   "execution_count": 60,
   "metadata": {},
   "outputs": [],
   "source": [
    "#vif = pd.DataFrame()\n",
    "\n",
    "#vif[\"VIF Factor\"] = [variance_inflation_factor(X.values, i) for i in range(X.shape[1])]\n",
    "#vif[\"features\"] = X.columns\n",
    "#vif"
   ]
  },
  {
   "cell_type": "markdown",
   "metadata": {},
   "source": [
    "# MODEL BUILDING & FITTING THE MODEL USING TRAINING DATA"
   ]
  },
  {
   "cell_type": "code",
   "execution_count": 61,
   "metadata": {},
   "outputs": [],
   "source": [
    "#### split the data into training and testing data using sci kit learn\n",
    "from sklearn.model_selection import train_test_split\n",
    "from sklearn.metrics import r2_score"
   ]
  },
  {
   "cell_type": "code",
   "execution_count": 62,
   "metadata": {},
   "outputs": [
    {
     "data": {
      "text/plain": [
       "Index(['Rating', 'Reviews', 'Size', 'Installs', 'Price',\n",
       "       'Category_ART_AND_DESIGN', 'Category_AUTO_AND_VEHICLES',\n",
       "       'Category_BEAUTY', 'Category_BOOKS_AND_REFERENCE', 'Category_BUSINESS',\n",
       "       ...\n",
       "       'Genres_Trivia;Education', 'Genres_Video Players & Editors',\n",
       "       'Genres_Weather', 'Genres_Word', 'Content_Rating_Everyone',\n",
       "       'Content_Rating_Everyone 10+', 'Content_Rating_Mature 17+',\n",
       "       'Content_Rating_Teen', 'Content_Rating_Unrated', 'Type_Free'],\n",
       "      dtype='object', length=139)"
      ]
     },
     "execution_count": 62,
     "metadata": {},
     "output_type": "execute_result"
    }
   ],
   "source": [
    "X.columns"
   ]
  },
  {
   "cell_type": "code",
   "execution_count": 63,
   "metadata": {},
   "outputs": [],
   "source": [
    "X_train, X_test, y_train, y_test =train_test_split(X,y, test_size = 0.7,random_state=100)"
   ]
  },
  {
   "cell_type": "code",
   "execution_count": 64,
   "metadata": {},
   "outputs": [
    {
     "data": {
      "text/html": [
       "<div>\n",
       "<style scoped>\n",
       "    .dataframe tbody tr th:only-of-type {\n",
       "        vertical-align: middle;\n",
       "    }\n",
       "\n",
       "    .dataframe tbody tr th {\n",
       "        vertical-align: top;\n",
       "    }\n",
       "\n",
       "    .dataframe thead th {\n",
       "        text-align: right;\n",
       "    }\n",
       "</style>\n",
       "<table border=\"1\" class=\"dataframe\">\n",
       "  <thead>\n",
       "    <tr style=\"text-align: right;\">\n",
       "      <th></th>\n",
       "      <th>Rating</th>\n",
       "      <th>Reviews</th>\n",
       "      <th>Size</th>\n",
       "      <th>Installs</th>\n",
       "      <th>Price</th>\n",
       "      <th>Category_ART_AND_DESIGN</th>\n",
       "      <th>Category_AUTO_AND_VEHICLES</th>\n",
       "      <th>Category_BEAUTY</th>\n",
       "      <th>Category_BOOKS_AND_REFERENCE</th>\n",
       "      <th>Category_BUSINESS</th>\n",
       "      <th>...</th>\n",
       "      <th>Genres_Trivia;Education</th>\n",
       "      <th>Genres_Video Players &amp; Editors</th>\n",
       "      <th>Genres_Weather</th>\n",
       "      <th>Genres_Word</th>\n",
       "      <th>Content_Rating_Everyone</th>\n",
       "      <th>Content_Rating_Everyone 10+</th>\n",
       "      <th>Content_Rating_Mature 17+</th>\n",
       "      <th>Content_Rating_Teen</th>\n",
       "      <th>Content_Rating_Unrated</th>\n",
       "      <th>Type_Free</th>\n",
       "    </tr>\n",
       "  </thead>\n",
       "  <tbody>\n",
       "    <tr>\n",
       "      <th>8359</th>\n",
       "      <td>4.3</td>\n",
       "      <td>0</td>\n",
       "      <td>28.0</td>\n",
       "      <td>10</td>\n",
       "      <td>0.0</td>\n",
       "      <td>0</td>\n",
       "      <td>0</td>\n",
       "      <td>0</td>\n",
       "      <td>0</td>\n",
       "      <td>0</td>\n",
       "      <td>...</td>\n",
       "      <td>0</td>\n",
       "      <td>0</td>\n",
       "      <td>0</td>\n",
       "      <td>0</td>\n",
       "      <td>0</td>\n",
       "      <td>0</td>\n",
       "      <td>1</td>\n",
       "      <td>0</td>\n",
       "      <td>0</td>\n",
       "      <td>1</td>\n",
       "    </tr>\n",
       "    <tr>\n",
       "      <th>8826</th>\n",
       "      <td>4.3</td>\n",
       "      <td>0</td>\n",
       "      <td>28.0</td>\n",
       "      <td>10</td>\n",
       "      <td>0.0</td>\n",
       "      <td>0</td>\n",
       "      <td>0</td>\n",
       "      <td>0</td>\n",
       "      <td>0</td>\n",
       "      <td>0</td>\n",
       "      <td>...</td>\n",
       "      <td>0</td>\n",
       "      <td>0</td>\n",
       "      <td>0</td>\n",
       "      <td>0</td>\n",
       "      <td>1</td>\n",
       "      <td>0</td>\n",
       "      <td>0</td>\n",
       "      <td>0</td>\n",
       "      <td>0</td>\n",
       "      <td>1</td>\n",
       "    </tr>\n",
       "    <tr>\n",
       "      <th>1705</th>\n",
       "      <td>4.3</td>\n",
       "      <td>1</td>\n",
       "      <td>28.0</td>\n",
       "      <td>100</td>\n",
       "      <td>0.0</td>\n",
       "      <td>0</td>\n",
       "      <td>0</td>\n",
       "      <td>0</td>\n",
       "      <td>0</td>\n",
       "      <td>0</td>\n",
       "      <td>...</td>\n",
       "      <td>0</td>\n",
       "      <td>0</td>\n",
       "      <td>0</td>\n",
       "      <td>0</td>\n",
       "      <td>1</td>\n",
       "      <td>0</td>\n",
       "      <td>0</td>\n",
       "      <td>0</td>\n",
       "      <td>0</td>\n",
       "      <td>1</td>\n",
       "    </tr>\n",
       "    <tr>\n",
       "      <th>10841</th>\n",
       "      <td>4.3</td>\n",
       "      <td>0</td>\n",
       "      <td>28.0</td>\n",
       "      <td>10</td>\n",
       "      <td>0.0</td>\n",
       "      <td>0</td>\n",
       "      <td>0</td>\n",
       "      <td>0</td>\n",
       "      <td>0</td>\n",
       "      <td>0</td>\n",
       "      <td>...</td>\n",
       "      <td>0</td>\n",
       "      <td>0</td>\n",
       "      <td>0</td>\n",
       "      <td>0</td>\n",
       "      <td>1</td>\n",
       "      <td>0</td>\n",
       "      <td>0</td>\n",
       "      <td>0</td>\n",
       "      <td>0</td>\n",
       "      <td>1</td>\n",
       "    </tr>\n",
       "    <tr>\n",
       "      <th>26649</th>\n",
       "      <td>2.6</td>\n",
       "      <td>201</td>\n",
       "      <td>28.0</td>\n",
       "      <td>10000</td>\n",
       "      <td>0.0</td>\n",
       "      <td>0</td>\n",
       "      <td>0</td>\n",
       "      <td>0</td>\n",
       "      <td>0</td>\n",
       "      <td>0</td>\n",
       "      <td>...</td>\n",
       "      <td>0</td>\n",
       "      <td>0</td>\n",
       "      <td>0</td>\n",
       "      <td>0</td>\n",
       "      <td>1</td>\n",
       "      <td>0</td>\n",
       "      <td>0</td>\n",
       "      <td>0</td>\n",
       "      <td>0</td>\n",
       "      <td>1</td>\n",
       "    </tr>\n",
       "  </tbody>\n",
       "</table>\n",
       "<p>5 rows × 139 columns</p>\n",
       "</div>"
      ],
      "text/plain": [
       "       Rating  Reviews  Size  Installs  Price  Category_ART_AND_DESIGN  \\\n",
       "8359      4.3        0  28.0        10    0.0                        0   \n",
       "8826      4.3        0  28.0        10    0.0                        0   \n",
       "1705      4.3        1  28.0       100    0.0                        0   \n",
       "10841     4.3        0  28.0        10    0.0                        0   \n",
       "26649     2.6      201  28.0     10000    0.0                        0   \n",
       "\n",
       "       Category_AUTO_AND_VEHICLES  Category_BEAUTY  \\\n",
       "8359                            0                0   \n",
       "8826                            0                0   \n",
       "1705                            0                0   \n",
       "10841                           0                0   \n",
       "26649                           0                0   \n",
       "\n",
       "       Category_BOOKS_AND_REFERENCE  Category_BUSINESS  ...  \\\n",
       "8359                              0                  0  ...   \n",
       "8826                              0                  0  ...   \n",
       "1705                              0                  0  ...   \n",
       "10841                             0                  0  ...   \n",
       "26649                             0                  0  ...   \n",
       "\n",
       "       Genres_Trivia;Education  Genres_Video Players & Editors  \\\n",
       "8359                         0                               0   \n",
       "8826                         0                               0   \n",
       "1705                         0                               0   \n",
       "10841                        0                               0   \n",
       "26649                        0                               0   \n",
       "\n",
       "       Genres_Weather  Genres_Word  Content_Rating_Everyone  \\\n",
       "8359                0            0                        0   \n",
       "8826                0            0                        1   \n",
       "1705                0            0                        1   \n",
       "10841               0            0                        1   \n",
       "26649               0            0                        1   \n",
       "\n",
       "       Content_Rating_Everyone 10+  Content_Rating_Mature 17+  \\\n",
       "8359                             0                          1   \n",
       "8826                             0                          0   \n",
       "1705                             0                          0   \n",
       "10841                            0                          0   \n",
       "26649                            0                          0   \n",
       "\n",
       "       Content_Rating_Teen  Content_Rating_Unrated  Type_Free  \n",
       "8359                     0                       0          1  \n",
       "8826                     0                       0          1  \n",
       "1705                     0                       0          1  \n",
       "10841                    0                       0          1  \n",
       "26649                    0                       0          1  \n",
       "\n",
       "[5 rows x 139 columns]"
      ]
     },
     "execution_count": 64,
     "metadata": {},
     "output_type": "execute_result"
    }
   ],
   "source": [
    "X_train.head() ###Independent variable training dataset"
   ]
  },
  {
   "cell_type": "code",
   "execution_count": 65,
   "metadata": {},
   "outputs": [
    {
     "data": {
      "text/html": [
       "<div>\n",
       "<style scoped>\n",
       "    .dataframe tbody tr th:only-of-type {\n",
       "        vertical-align: middle;\n",
       "    }\n",
       "\n",
       "    .dataframe tbody tr th {\n",
       "        vertical-align: top;\n",
       "    }\n",
       "\n",
       "    .dataframe thead th {\n",
       "        text-align: right;\n",
       "    }\n",
       "</style>\n",
       "<table border=\"1\" class=\"dataframe\">\n",
       "  <thead>\n",
       "    <tr style=\"text-align: right;\">\n",
       "      <th></th>\n",
       "      <th>Rating</th>\n",
       "      <th>Reviews</th>\n",
       "      <th>Size</th>\n",
       "      <th>Installs</th>\n",
       "      <th>Price</th>\n",
       "      <th>Category_ART_AND_DESIGN</th>\n",
       "      <th>Category_AUTO_AND_VEHICLES</th>\n",
       "      <th>Category_BEAUTY</th>\n",
       "      <th>Category_BOOKS_AND_REFERENCE</th>\n",
       "      <th>Category_BUSINESS</th>\n",
       "      <th>...</th>\n",
       "      <th>Genres_Trivia;Education</th>\n",
       "      <th>Genres_Video Players &amp; Editors</th>\n",
       "      <th>Genres_Weather</th>\n",
       "      <th>Genres_Word</th>\n",
       "      <th>Content_Rating_Everyone</th>\n",
       "      <th>Content_Rating_Everyone 10+</th>\n",
       "      <th>Content_Rating_Mature 17+</th>\n",
       "      <th>Content_Rating_Teen</th>\n",
       "      <th>Content_Rating_Unrated</th>\n",
       "      <th>Type_Free</th>\n",
       "    </tr>\n",
       "  </thead>\n",
       "  <tbody>\n",
       "    <tr>\n",
       "      <th>21913</th>\n",
       "      <td>3.3</td>\n",
       "      <td>25</td>\n",
       "      <td>46.0</td>\n",
       "      <td>1000</td>\n",
       "      <td>0.0</td>\n",
       "      <td>0</td>\n",
       "      <td>0</td>\n",
       "      <td>0</td>\n",
       "      <td>0</td>\n",
       "      <td>0</td>\n",
       "      <td>...</td>\n",
       "      <td>0</td>\n",
       "      <td>0</td>\n",
       "      <td>0</td>\n",
       "      <td>0</td>\n",
       "      <td>1</td>\n",
       "      <td>0</td>\n",
       "      <td>0</td>\n",
       "      <td>0</td>\n",
       "      <td>0</td>\n",
       "      <td>1</td>\n",
       "    </tr>\n",
       "    <tr>\n",
       "      <th>15559</th>\n",
       "      <td>4.3</td>\n",
       "      <td>0</td>\n",
       "      <td>28.0</td>\n",
       "      <td>10</td>\n",
       "      <td>0.0</td>\n",
       "      <td>0</td>\n",
       "      <td>0</td>\n",
       "      <td>0</td>\n",
       "      <td>0</td>\n",
       "      <td>0</td>\n",
       "      <td>...</td>\n",
       "      <td>0</td>\n",
       "      <td>0</td>\n",
       "      <td>0</td>\n",
       "      <td>0</td>\n",
       "      <td>1</td>\n",
       "      <td>0</td>\n",
       "      <td>0</td>\n",
       "      <td>0</td>\n",
       "      <td>0</td>\n",
       "      <td>1</td>\n",
       "    </tr>\n",
       "    <tr>\n",
       "      <th>1069</th>\n",
       "      <td>4.3</td>\n",
       "      <td>1</td>\n",
       "      <td>28.0</td>\n",
       "      <td>100</td>\n",
       "      <td>0.0</td>\n",
       "      <td>0</td>\n",
       "      <td>0</td>\n",
       "      <td>0</td>\n",
       "      <td>0</td>\n",
       "      <td>0</td>\n",
       "      <td>...</td>\n",
       "      <td>0</td>\n",
       "      <td>0</td>\n",
       "      <td>0</td>\n",
       "      <td>0</td>\n",
       "      <td>1</td>\n",
       "      <td>0</td>\n",
       "      <td>0</td>\n",
       "      <td>0</td>\n",
       "      <td>0</td>\n",
       "      <td>1</td>\n",
       "    </tr>\n",
       "    <tr>\n",
       "      <th>11091</th>\n",
       "      <td>4.3</td>\n",
       "      <td>0</td>\n",
       "      <td>28.0</td>\n",
       "      <td>10</td>\n",
       "      <td>0.0</td>\n",
       "      <td>0</td>\n",
       "      <td>1</td>\n",
       "      <td>0</td>\n",
       "      <td>0</td>\n",
       "      <td>0</td>\n",
       "      <td>...</td>\n",
       "      <td>0</td>\n",
       "      <td>0</td>\n",
       "      <td>0</td>\n",
       "      <td>0</td>\n",
       "      <td>1</td>\n",
       "      <td>0</td>\n",
       "      <td>0</td>\n",
       "      <td>0</td>\n",
       "      <td>0</td>\n",
       "      <td>1</td>\n",
       "    </tr>\n",
       "    <tr>\n",
       "      <th>16541</th>\n",
       "      <td>4.3</td>\n",
       "      <td>0</td>\n",
       "      <td>28.0</td>\n",
       "      <td>1</td>\n",
       "      <td>0.0</td>\n",
       "      <td>0</td>\n",
       "      <td>0</td>\n",
       "      <td>0</td>\n",
       "      <td>0</td>\n",
       "      <td>0</td>\n",
       "      <td>...</td>\n",
       "      <td>0</td>\n",
       "      <td>0</td>\n",
       "      <td>0</td>\n",
       "      <td>0</td>\n",
       "      <td>1</td>\n",
       "      <td>0</td>\n",
       "      <td>0</td>\n",
       "      <td>0</td>\n",
       "      <td>0</td>\n",
       "      <td>1</td>\n",
       "    </tr>\n",
       "  </tbody>\n",
       "</table>\n",
       "<p>5 rows × 139 columns</p>\n",
       "</div>"
      ],
      "text/plain": [
       "       Rating  Reviews  Size  Installs  Price  Category_ART_AND_DESIGN  \\\n",
       "21913     3.3       25  46.0      1000    0.0                        0   \n",
       "15559     4.3        0  28.0        10    0.0                        0   \n",
       "1069      4.3        1  28.0       100    0.0                        0   \n",
       "11091     4.3        0  28.0        10    0.0                        0   \n",
       "16541     4.3        0  28.0         1    0.0                        0   \n",
       "\n",
       "       Category_AUTO_AND_VEHICLES  Category_BEAUTY  \\\n",
       "21913                           0                0   \n",
       "15559                           0                0   \n",
       "1069                            0                0   \n",
       "11091                           1                0   \n",
       "16541                           0                0   \n",
       "\n",
       "       Category_BOOKS_AND_REFERENCE  Category_BUSINESS  ...  \\\n",
       "21913                             0                  0  ...   \n",
       "15559                             0                  0  ...   \n",
       "1069                              0                  0  ...   \n",
       "11091                             0                  0  ...   \n",
       "16541                             0                  0  ...   \n",
       "\n",
       "       Genres_Trivia;Education  Genres_Video Players & Editors  \\\n",
       "21913                        0                               0   \n",
       "15559                        0                               0   \n",
       "1069                         0                               0   \n",
       "11091                        0                               0   \n",
       "16541                        0                               0   \n",
       "\n",
       "       Genres_Weather  Genres_Word  Content_Rating_Everyone  \\\n",
       "21913               0            0                        1   \n",
       "15559               0            0                        1   \n",
       "1069                0            0                        1   \n",
       "11091               0            0                        1   \n",
       "16541               0            0                        1   \n",
       "\n",
       "       Content_Rating_Everyone 10+  Content_Rating_Mature 17+  \\\n",
       "21913                            0                          0   \n",
       "15559                            0                          0   \n",
       "1069                             0                          0   \n",
       "11091                            0                          0   \n",
       "16541                            0                          0   \n",
       "\n",
       "       Content_Rating_Teen  Content_Rating_Unrated  Type_Free  \n",
       "21913                    0                       0          1  \n",
       "15559                    0                       0          1  \n",
       "1069                     0                       0          1  \n",
       "11091                    0                       0          1  \n",
       "16541                    0                       0          1  \n",
       "\n",
       "[5 rows x 139 columns]"
      ]
     },
     "execution_count": 65,
     "metadata": {},
     "output_type": "execute_result"
    }
   ],
   "source": [
    "X_test.head() ###Independent variable Test dataset"
   ]
  },
  {
   "cell_type": "code",
   "execution_count": 66,
   "metadata": {},
   "outputs": [
    {
     "data": {
      "text/plain": [
       "8359     4.3\n",
       "8826     4.3\n",
       "1705     4.3\n",
       "10841    4.3\n",
       "26649    2.6\n",
       "Name: Rating, dtype: float64"
      ]
     },
     "execution_count": 66,
     "metadata": {},
     "output_type": "execute_result"
    }
   ],
   "source": [
    "y_train.head()  ###Dependent variable Train dataset"
   ]
  },
  {
   "cell_type": "code",
   "execution_count": 67,
   "metadata": {},
   "outputs": [
    {
     "data": {
      "text/plain": [
       "21913    3.3\n",
       "15559    4.3\n",
       "1069     4.3\n",
       "11091    4.3\n",
       "16541    4.3\n",
       "Name: Rating, dtype: float64"
      ]
     },
     "execution_count": 67,
     "metadata": {},
     "output_type": "execute_result"
    }
   ],
   "source": [
    "y_test.head() ###Dependent variable Test dataset"
   ]
  },
  {
   "cell_type": "markdown",
   "metadata": {},
   "source": [
    "# training data using our Linear Regression model\n",
    "pass x and y from xtrain to the model \n",
    "the model executes the formula y = mx + c + e"
   ]
  },
  {
   "cell_type": "code",
   "execution_count": 68,
   "metadata": {},
   "outputs": [],
   "source": [
    "### training the model on linear regression\n",
    "### sklearn.linear_model, LinearRegression will have the linear equation y=mx+b\n",
    "from sklearn.linear_model import LinearRegression"
   ]
  },
  {
   "cell_type": "code",
   "execution_count": 69,
   "metadata": {},
   "outputs": [
    {
     "data": {
      "text/plain": [
       "LinearRegression(copy_X=True, fit_intercept=True, n_jobs=None, normalize=False)"
      ]
     },
     "execution_count": 69,
     "metadata": {},
     "output_type": "execute_result"
    }
   ],
   "source": [
    "#fitting our model to train and test\n",
    "### instantiate an instance of linear regression object\n",
    "#### fit is used for fitting the model to training data.\n",
    "\n",
    "lm = LinearRegression()\n",
    "\n",
    "### MODELFITSTRAIN - use the LinearRegression() function on my training data \n",
    "lm.fit(X_train,y_train) #### no need to set this to any variable. its inplace.\n",
    "\n",
    "\n",
    "#### we get an output stating that the linear regression model has been trained"
   ]
  },
  {
   "cell_type": "code",
   "execution_count": 70,
   "metadata": {},
   "outputs": [
    {
     "data": {
      "text/plain": [
       "sklearn.linear_model._base.LinearRegression"
      ]
     },
     "execution_count": 70,
     "metadata": {},
     "output_type": "execute_result"
    }
   ],
   "source": [
    "type(lm)"
   ]
  },
  {
   "cell_type": "code",
   "execution_count": 71,
   "metadata": {},
   "outputs": [
    {
     "name": "stdout",
     "output_type": "stream",
     "text": [
      "-1.2184031561446318e-11\n"
     ]
    }
   ],
   "source": [
    "### Y=mx+c\n",
    "\n",
    "####  intercept  - value of ytrain when each independent variable in xtrain is 0\n",
    "print(lm.intercept_) \n",
    "#### 1.3 is the value of y when all the independent variables have a value of 0"
   ]
  },
  {
   "cell_type": "code",
   "execution_count": 72,
   "metadata": {},
   "outputs": [
    {
     "data": {
      "text/plain": [
       "array([ 1.00000000e+00,  4.19146457e-16,  4.08460718e-15, -8.22065393e-18,\n",
       "        2.96071145e-13, -7.97513956e-12,  7.43771109e-13,  3.49841911e-12,\n",
       "        4.80214468e-13, -3.37067772e-13,  1.17589770e-11, -2.30441212e-13,\n",
       "       -1.20692267e-12, -2.46808472e-11, -4.99940558e-12, -3.65934887e-12,\n",
       "        5.20205316e-12,  2.58565422e-13,  2.82895815e-12,  2.38071830e-11,\n",
       "       -1.80676531e-13, -2.33119199e-12, -1.52637618e-12, -6.75968776e-13,\n",
       "       -2.98196105e-12, -1.00719249e-13,  7.53094448e-13, -4.34054720e-12,\n",
       "       -3.69321413e-13,  2.18167679e-12, -6.15134376e-13, -4.95634433e-13,\n",
       "        1.75929765e-13,  2.29069379e-14, -2.29237543e-13,  1.83760124e-13,\n",
       "        1.24456017e-12,  3.79587207e-12, -4.40978781e-11,  1.66834472e-11,\n",
       "       -1.31900282e-12, -1.29246971e-26, -3.87740912e-26,  3.51451479e-11,\n",
       "       -1.68923473e-11, -7.97513956e-12, -2.07075988e-29,  1.01596656e-29,\n",
       "        7.43771109e-13,  3.49841911e-12,  1.24588720e-11,  2.68521701e-12,\n",
       "       -9.47088765e-12,  6.81008828e-30,  4.80214468e-13,  1.45882021e-11,\n",
       "       -1.00726136e-29, -3.37067772e-13, -2.97642144e-11, -7.63438630e-31,\n",
       "       -3.40037541e-11, -7.62356681e-12,  2.13331296e-11,  1.27558412e-11,\n",
       "        1.45519319e-11,  2.41588652e-30,  1.17589770e-11,  7.53115645e-30,\n",
       "       -2.30441212e-13, -1.20692267e-12, -4.32261724e-12,  1.21368265e-11,\n",
       "        1.20647955e-29,  1.90905200e-11, -9.52509258e-12,  3.10715404e-11,\n",
       "        1.84785230e-11,  9.26197418e-12,  2.29934383e-11, -1.73342228e-11,\n",
       "       -3.56112104e-11,  8.06003743e-12,  3.72819736e-12, -5.63853527e-12,\n",
       "        4.51019359e-12,  2.46519033e-32, -3.65934887e-12,  2.58565422e-13,\n",
       "        2.82895815e-12, -1.80676531e-13,  0.00000000e+00, -2.33119199e-12,\n",
       "       -1.52637618e-12, -6.75968776e-13,  0.00000000e+00, -2.98196105e-12,\n",
       "       -1.00719249e-13, -9.46864635e-12,  2.94301560e-11,  7.53094448e-13,\n",
       "        1.17597825e-11, -1.56682476e-11, -4.32082076e-13, -3.69321413e-13,\n",
       "        2.18167679e-12, -6.15134376e-13, -1.06524796e-11,  0.00000000e+00,\n",
       "        0.00000000e+00,  0.00000000e+00, -6.84924300e-12, -3.04096000e-11,\n",
       "       -1.62680408e-11,  0.00000000e+00,  0.00000000e+00,  4.92384877e-13,\n",
       "       -4.95634433e-13,  4.16761053e-13,  0.00000000e+00,  1.89121067e-11,\n",
       "        1.75929765e-13,  2.29069379e-14,  0.00000000e+00,  8.62028279e-14,\n",
       "       -7.97883180e-12, -2.29237543e-13,  1.83760124e-13,  0.00000000e+00,\n",
       "       -1.18149721e-11,  0.00000000e+00,  1.24456017e-12,  3.79587207e-12,\n",
       "       -4.96524726e-13, -9.70259292e-14,  2.31052145e-12, -7.43778186e-14,\n",
       "        4.94262332e-14, -2.18854393e-12,  1.32873852e-11])"
      ]
     },
     "execution_count": 72,
     "metadata": {},
     "output_type": "execute_result"
    }
   ],
   "source": [
    "### to view the coefficients of the linear model of the independent variables - \"m\"\n",
    "lm.coef_\n",
    "### y-m1X1+m2X2+m3X3"
   ]
  },
  {
   "cell_type": "code",
   "execution_count": 73,
   "metadata": {},
   "outputs": [
    {
     "data": {
      "text/plain": [
       "Index(['Rating', 'Reviews', 'Size', 'Installs', 'Price',\n",
       "       'Category_ART_AND_DESIGN', 'Category_AUTO_AND_VEHICLES',\n",
       "       'Category_BEAUTY', 'Category_BOOKS_AND_REFERENCE', 'Category_BUSINESS',\n",
       "       ...\n",
       "       'Genres_Trivia;Education', 'Genres_Video Players & Editors',\n",
       "       'Genres_Weather', 'Genres_Word', 'Content_Rating_Everyone',\n",
       "       'Content_Rating_Everyone 10+', 'Content_Rating_Mature 17+',\n",
       "       'Content_Rating_Teen', 'Content_Rating_Unrated', 'Type_Free'],\n",
       "      dtype='object', length=139)"
      ]
     },
     "execution_count": 73,
     "metadata": {},
     "output_type": "execute_result"
    }
   ],
   "source": [
    "X_train.columns"
   ]
  },
  {
   "cell_type": "markdown",
   "metadata": {},
   "source": [
    "# Make Predictions and Report the R2 on the train set"
   ]
  },
  {
   "cell_type": "code",
   "execution_count": 74,
   "metadata": {},
   "outputs": [],
   "source": [
    "### predict with training data alone\n",
    "pred_xt = lm.predict(X_train)  ## Lm  is the linear regression model\n",
    "                               #X_train has all the independent variables in the train dataset\n",
    "                            #predicting the value of Y using the independent variables in the train dataset"
   ]
  },
  {
   "cell_type": "code",
   "execution_count": 75,
   "metadata": {},
   "outputs": [
    {
     "data": {
      "text/plain": [
       "array([4.3, 4.3, 4.3, ..., 4.3, 4.4, 4.3])"
      ]
     },
     "execution_count": 75,
     "metadata": {},
     "output_type": "execute_result"
    }
   ],
   "source": [
    "### predicting on training data of independent variables\n",
    "pred_xt"
   ]
  },
  {
   "cell_type": "code",
   "execution_count": 76,
   "metadata": {},
   "outputs": [
    {
     "name": "stdout",
     "output_type": "stream",
     "text": [
      "1.0\n"
     ]
    }
   ],
   "source": [
    "#accuracy_score(y_train,pred_xt)\n",
    "#print(mean_squared_error(y_train, pred_xt))\n",
    "print(r2_score(y_train, pred_xt))"
   ]
  },
  {
   "cell_type": "markdown",
   "metadata": {},
   "source": [
    "# Make predictions on test set and report R2 on Test Set"
   ]
  },
  {
   "cell_type": "markdown",
   "metadata": {},
   "source": [
    "Predictions are done using the Model (That was built with training data) and now running it on the test data.\n",
    "If the predicted value of Dependent variable Rating is closer to the actual value of dependent variable we have a good model"
   ]
  },
  {
   "cell_type": "code",
   "execution_count": 77,
   "metadata": {},
   "outputs": [],
   "source": [
    "pred_y = lm.predict(X_test) #x_test has all the independent variables in the test dataset\n",
    "                            #predicting the value of Y using the independent variables in the test dataset"
   ]
  },
  {
   "cell_type": "code",
   "execution_count": 78,
   "metadata": {},
   "outputs": [
    {
     "data": {
      "text/plain": [
       "array([3.3, 4.3, 4.3, ..., 4.3, 4.3, 4.3])"
      ]
     },
     "execution_count": 78,
     "metadata": {},
     "output_type": "execute_result"
    }
   ],
   "source": [
    "pred_y ##### accuracy for predicting on testing data"
   ]
  },
  {
   "cell_type": "code",
   "execution_count": 79,
   "metadata": {},
   "outputs": [
    {
     "name": "stdout",
     "output_type": "stream",
     "text": [
      "1.0\n"
     ]
    }
   ],
   "source": [
    "from sklearn.metrics import mean_squared_error\n",
    "from sklearn.metrics import r2_score\n",
    "#print(mean_squared_error(y_test, pred_y))\n",
    "print(r2_score(y_test, pred_y))"
   ]
  },
  {
   "cell_type": "code",
   "execution_count": 80,
   "metadata": {},
   "outputs": [
    {
     "data": {
      "text/plain": [
       "Text(0, 0.5, 'Predicted Y')"
      ]
     },
     "execution_count": 80,
     "metadata": {},
     "output_type": "execute_result"
    },
    {
     "data": {
      "image/png": "[encoded data removed]",
      "text/plain": [
       "<Figure size 1008x576 with 1 Axes>"
      ]
     },
     "metadata": {},
     "output_type": "display_data"
    }
   ],
   "source": [
    "### Visualtion of predictive results\n",
    "plt.scatter(y_test,pred_y,color='green',cmap='viridis')\n",
    "\n",
    "plt.xlabel('Y Actual/Test') \n",
    "plt.ylabel('Predicted Y') "
   ]
  },
  {
   "cell_type": "code",
   "execution_count": 81,
   "metadata": {},
   "outputs": [
    {
     "data": {
      "text/plain": [
       "21913    3.3\n",
       "15559    4.3\n",
       "1069     4.3\n",
       "11091    4.3\n",
       "16541    4.3\n",
       "        ... \n",
       "17304    4.3\n",
       "13003    4.3\n",
       "12378    4.3\n",
       "9821     4.3\n",
       "12499    4.3\n",
       "Name: Rating, Length: 18858, dtype: float64"
      ]
     },
     "execution_count": 81,
     "metadata": {},
     "output_type": "execute_result"
    }
   ],
   "source": [
    "y_test"
   ]
  },
  {
   "cell_type": "code",
   "execution_count": 82,
   "metadata": {},
   "outputs": [
    {
     "data": {
      "text/plain": [
       "<matplotlib.axes._subplots.AxesSubplot at 0x25d2d7a7b88>"
      ]
     },
     "execution_count": 82,
     "metadata": {},
     "output_type": "execute_result"
    },
    {
     "data": {
      "image/png": "[encoded data removed]",
      "text/plain": [
       "<Figure size 1008x576 with 1 Axes>"
      ]
     },
     "metadata": {},
     "output_type": "display_data"
    }
   ],
   "source": [
    "sns.regplot(y_test,pred_y)"
   ]
  },
  {
   "cell_type": "code",
   "execution_count": 86,
   "metadata": {},
   "outputs": [],
   "source": [
    "import pdfkit\n",
    "#pdfkit.from_file('App Rating Prediction Project - Firoz Syed (25 APR-24 May 2020).html', 'Project_Firoz_25APR_24MAY2020.pdf') "
   ]
  }
 ],
 "metadata": {
  "kernelspec": {
   "display_name": "Python 3",
   "language": "python",
   "name": "python3"
  },
  "language_info": {
   "codemirror_mode": {
    "name": "ipython",
    "version": 3
   },
   "file_extension": ".py",
   "mimetype": "text/x-python",
   "name": "python",
   "nbconvert_exporter": "python",
   "pygments_lexer": "ipython3",
   "version": "3.7.6"
  }
 },
 "nbformat": 4,
 "nbformat_minor": 4
}
